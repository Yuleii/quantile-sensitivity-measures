{
 "cells": [
  {
   "cell_type": "code",
   "execution_count": 1,
   "metadata": {},
   "outputs": [],
   "source": [
    "import numpy as np\n",
    "import chaospy as cp\n",
    "from scipy.stats import norm\n",
    "import matplotlib.pyplot as plt"
   ]
  },
  {
   "cell_type": "markdown",
   "metadata": {},
   "source": [
    "# parameters"
   ]
  },
  {
   "cell_type": "code",
   "execution_count": 7,
   "metadata": {},
   "outputs": [],
   "source": [
    "# Total number of sample points\n",
    "N = 2**13 # 8192\n",
    "\n",
    "# interval of alpha grid\n",
    "dalp = (0.98-0.02)/30   # 0.032\n",
    "\n",
    "# range of alpha\n",
    "alp = np.arange(0.02, 0.98+dalp, dalp) \n",
    "\n",
    "# number of conditional samples\n",
    "M = 64\n",
    "\n",
    "# dimension of inputs\n",
    "dim = np.size(miu) # 4\n"
   ]
  },
  {
   "cell_type": "markdown",
   "metadata": {},
   "source": [
    "\n",
    "# Test 1: Linear function"
   ]
  },
  {
   "cell_type": "code",
   "execution_count": 6,
   "metadata": {},
   "outputs": [],
   "source": [
    "# mean for normal distribution\n",
    "miu = np.array([1,3,5,7])\n",
    "\n",
    "# standard deviation for normal distribution\n",
    "sd = np.array([1,1.5,2,2.5])\n",
    "\n",
    "a = [1,1,1,1]\n",
    "\n",
    "def objfun(x):\n",
    "    result = a[0]*x[:,0]+a[1]*x[:,1]+a[2]*x[:,2]+a[3]*x[:,3]\n",
    "    return result"
   ]
  },
  {
   "cell_type": "markdown",
   "metadata": {},
   "source": [
    "## kucherenko_quantile function"
   ]
  },
  {
   "cell_type": "code",
   "execution_count": 217,
   "metadata": {},
   "outputs": [],
   "source": [
    "def kucherenko_quantile(alp,N,miu,sd):\n",
    "    q1_alp, q2_alp = _quantile_based_measures(N,M,dim,alp)\n",
    "    Q1_alp, Q2_alp = _nomalized_quantile_based_measures(N,M,dim,alp)\n",
    "    \n",
    "    return q1_alp, q2_alp, Q1_alp, Q2_alp\n",
    "\n",
    "\n",
    "def _quantile_based_measures(N,M,dim,alp):\n",
    "    # shape(1, 4, 1, 64)\n",
    "    delt=np.array([[np.zeros((1,M)) for x in range(dim)] for z in range(1)],dtype=np.float64)\n",
    "    q1_alp=np.zeros((len(alp),dim))\n",
    "    q2_alp=np.zeros((len(alp),dim))\n",
    "    \n",
    "    qy_alp1 = _unconditional_q_Y(N,M,dim)\n",
    "    qy_alp2 = _conditional_q_Y(N,M,dim,alp)\n",
    "    \n",
    "    for i in range(dim):\n",
    "        for pp in range(len(alp)):\n",
    "            delt[0,i]=qy_alp2[0,i,pp,:] - qy_alp1[pp]  # delt\n",
    "            q1_alp[pp,i]=np.mean(np.absolute(delt[0,i]))  # |delt|\n",
    "            q2_alp[pp,i]=np.mean(delt[0,i]**2)  # (delt)^2\n",
    "            \n",
    "    return q1_alp, q2_alp\n",
    "\n",
    "\n",
    "def _nomalized_quantile_based_measures(N,M,dim,alp):\n",
    "    # shape(1, 31)\n",
    "    q1=np.zeros(len(alp))\n",
    "    q2=np.zeros(len(alp))\n",
    "\n",
    "    Q1_alp=np.zeros((len(alp),dim))\n",
    "    Q2_alp=np.zeros((len(alp),dim))\n",
    "    \n",
    "    q1_alp, q2_alp = _quantile_based_measures(N,M,dim,alp)\n",
    "    \n",
    "    for pp in range(len(alp)):\n",
    "        q1[pp]=np.sum(q1_alp[pp,:])\n",
    "        q2[pp]=np.sum(q2_alp[pp,:])\n",
    "        for i in range(dim):\n",
    "            Q1_alp[pp,i]=q1_alp[pp,i]/q1[pp]\n",
    "            Q2_alp[pp,i]=q2_alp[pp,i]/q2[pp]\n",
    "    \n",
    "    return Q1_alp, Q2_alp\n",
    "\n",
    "\n",
    "def _unconditional_q_Y(N,M,dim):\n",
    "    A,B  = _get_samples(N, M, dim)\n",
    "    # values of outputs\n",
    "    Y1 = objfun(A)\n",
    "    # reorder in ascending order\n",
    "    y1 = np.sort(Y1)\n",
    "    \n",
    "    # q_Y(alp)\n",
    "    q_index = (np.floor(alp*N)-1).astype(int)\n",
    "    qy_alp1 = y1[q_index]\n",
    "    \n",
    "    return qy_alp1 \n",
    "\n",
    "\n",
    "def _conditional_q_Y(N,M,dim,alp):\n",
    "    A,B  = _get_samples(N, M, dim)\n",
    "    \n",
    "    # conditional sample matrix C,with shape(64, 4, 8192, 4)\n",
    "    C = np.array([[np.zeros((N,dim)) for x in range(dim)] for z in range(M)],dtype=np.float64)\n",
    "\n",
    "    for i in range(dim):\n",
    "        for j in range(M):\n",
    "            C[j,i] = A\n",
    "            C[j,i,:,i] = B[j, i]  \n",
    "    # values of conditional outputs\n",
    "    # shape(8192, 4, 8192, 1)\n",
    "    Y2=np.array([[np.zeros((N,1)) for x in range(dim)] for z in range(N)],dtype=np.float64)\n",
    "    y2=np.array([[np.zeros((N,1)) for x in range(dim)] for z in range(N)],dtype=np.float64)\n",
    "    \n",
    "    # shape(1, 4, 31, 64)\n",
    "    qy_alp2=np.array([[np.zeros((len(alp),M)) for x in range(dim)] for z in range(1)],dtype=np.float64)\n",
    "    \n",
    "    for i in range(dim):\n",
    "        for j in range(M):\n",
    "            Y2[j,i] = np.vstack(objfun(C[j,i]))  # values of conditional outputs\n",
    "            Y2[j,i].sort(axis=0)\n",
    "            y2[j,i] = Y2[j,i] # reorder in ascending order\n",
    "            for pp in range(len(alp)):\n",
    "                qy_alp2[0,i,pp,j]=y2[j,i][(np.floor(alp[pp]*N)-1).astype(int)] # conditioanl q_Y(alp)\n",
    "    \n",
    "    return qy_alp2\n",
    "\n",
    "\n",
    "def _get_samples(N, M, dim):\n",
    "    \n",
    "    # A for unconditional sample\n",
    "    A = np.zeros((N,dim))\n",
    "    # B for conditional sample\n",
    "    B = np.zeros((M,dim))\n",
    "    X01 = cp.generate_samples(order=N, domain=dim, rule=\"S\").T\n",
    "    X02 = cp.generate_samples(order=M, domain=dim, rule=\"S\").T\n",
    "    \n",
    "    A = norm.ppf(X01,loc=miu, scale=sd)\n",
    "    B = norm.ppf(X02,loc=miu, scale=sd)\n",
    "    \n",
    "    \n",
    "\n",
    "    return A,B"
   ]
  },
  {
   "cell_type": "code",
   "execution_count": 218,
   "metadata": {},
   "outputs": [],
   "source": [
    "q1_alp, q2_alp, Q1_alp, Q2_alp=kucherenko_quantile(alp,N,miu,sd)"
   ]
  },
  {
   "cell_type": "code",
   "execution_count": 219,
   "metadata": {},
   "outputs": [
    {
     "data": {
      "text/plain": [
       "[<matplotlib.lines.Line2D at 0x7fba0bbede50>,\n",
       " <matplotlib.lines.Line2D at 0x7fb910a8d450>,\n",
       " <matplotlib.lines.Line2D at 0x7fb811db6d50>,\n",
       " <matplotlib.lines.Line2D at 0x7fb811d951d0>]"
      ]
     },
     "execution_count": 219,
     "metadata": {},
     "output_type": "execute_result"
    },
    {
     "data": {
      "image/png": "[encoded data removed]",
      "text/plain": [
       "<Figure size 432x288 with 1 Axes>"
      ]
     },
     "metadata": {
      "needs_background": "light"
     },
     "output_type": "display_data"
    }
   ],
   "source": [
    "plt.plot(alp,Q1_alp[:,0],'rs--',alp,Q1_alp[:,1],'bs--',alp,Q1_alp[:,2],'gs--',alp,Q1_alp[:,3],'cs--')\n",
    "\n",
    "plt.plot(alp,Q2_alp[:,0],'r*--',alp,Q2_alp[:,1],'b*--',alp,Q2_alp[:,2],'g*--',alp,Q2_alp[:,3],'c*--')"
   ]
  },
  {
   "cell_type": "markdown",
   "metadata": {},
   "source": [
    "## solve q_Y(alp)"
   ]
  },
  {
   "cell_type": "code",
   "execution_count": 8,
   "metadata": {},
   "outputs": [],
   "source": [
    "# number of conditional samples\n",
    "M = 64"
   ]
  },
  {
   "cell_type": "code",
   "execution_count": 9,
   "metadata": {},
   "outputs": [],
   "source": [
    "A = np.zeros((N,dim))\n",
    "B = np.zeros((M,dim))"
   ]
  },
  {
   "cell_type": "code",
   "execution_count": 10,
   "metadata": {},
   "outputs": [
    {
     "data": {
      "text/plain": [
       "array([[0.5   , 0.5   , 0.5   , 0.5   ],\n",
       "       [0.75  , 0.25  , 0.75  , 0.25  ],\n",
       "       [0.25  , 0.75  , 0.25  , 0.75  ],\n",
       "       [0.375 , 0.375 , 0.625 , 0.125 ],\n",
       "       [0.875 , 0.875 , 0.125 , 0.625 ],\n",
       "       [0.625 , 0.125 , 0.375 , 0.375 ],\n",
       "       [0.125 , 0.625 , 0.875 , 0.875 ],\n",
       "       [0.1875, 0.3125, 0.3125, 0.6875],\n",
       "       [0.6875, 0.8125, 0.8125, 0.1875],\n",
       "       [0.9375, 0.0625, 0.5625, 0.9375]])"
      ]
     },
     "execution_count": 10,
     "metadata": {},
     "output_type": "execute_result"
    }
   ],
   "source": [
    "# alpha的sample\n",
    "X01 = cp.generate_samples(order=N, domain=dim, rule=\"S\").T\n",
    "X02 = cp.generate_samples(order=M, domain=dim, rule=\"S\").T\n",
    "\n",
    "X01[0:10,:]"
   ]
  },
  {
   "cell_type": "code",
   "execution_count": 11,
   "metadata": {},
   "outputs": [],
   "source": [
    "# X1 = norm.ppf(X01)\n",
    "# X2 = norm.ppf(X02)\n",
    "\n",
    "# for i in range(dim):\n",
    "#     A[:,i] = X1[:,i]*sd[i]+miu[i]\n",
    "#     B[:,i] = X2[:,i]*sd[i]+miu[i]"
   ]
  },
  {
   "cell_type": "code",
   "execution_count": 12,
   "metadata": {},
   "outputs": [],
   "source": [
    "# input的sample\n",
    "A = norm.ppf(X01,loc=miu, scale=sd)\n",
    "B = norm.ppf(X02,loc=miu, scale=sd)"
   ]
  },
  {
   "cell_type": "code",
   "execution_count": 85,
   "metadata": {},
   "outputs": [
    {
     "ename": "NameError",
     "evalue": "name 'cov_1' is not defined",
     "output_type": "error",
     "traceback": [
      "\u001b[0;31m---------------------------------------------------------------------------\u001b[0m",
      "\u001b[0;31mNameError\u001b[0m                                 Traceback (most recent call last)",
      "\u001b[0;32m<ipython-input-85-d4a023995e57>\u001b[0m in \u001b[0;36m<module>\u001b[0;34m\u001b[0m\n\u001b[0;32m----> 1\u001b[0;31m \u001b[0mnp\u001b[0m\u001b[0;34m.\u001b[0m\u001b[0mdiag\u001b[0m\u001b[0;34m(\u001b[0m\u001b[0mcov_1\u001b[0m\u001b[0;34m)\u001b[0m\u001b[0;34m\u001b[0m\u001b[0;34m\u001b[0m\u001b[0m\n\u001b[0m",
      "\u001b[0;31mNameError\u001b[0m: name 'cov_1' is not defined"
     ]
    }
   ],
   "source": []
  },
  {
   "cell_type": "code",
   "execution_count": 13,
   "metadata": {},
   "outputs": [],
   "source": [
    "# values of outputs\n",
    "Y1 = objfun(A)"
   ]
  },
  {
   "cell_type": "code",
   "execution_count": 14,
   "metadata": {},
   "outputs": [],
   "source": [
    "# reorder in ascending order\n",
    "y1 = np.sort(Y1)\n"
   ]
  },
  {
   "cell_type": "code",
   "execution_count": 15,
   "metadata": {},
   "outputs": [],
   "source": [
    "# q_Y(alp)\n",
    "q_index = (np.floor(alp*N)-1).astype(int)\n",
    "qy_alp1 = y1[q_index]"
   ]
  },
  {
   "cell_type": "markdown",
   "metadata": {},
   "source": [
    "## solve conditional q_Y(alp)"
   ]
  },
  {
   "cell_type": "code",
   "execution_count": 16,
   "metadata": {},
   "outputs": [],
   "source": [
    "# conditional sample matrix C,with shape(64, 4, 8192, 4)\n",
    "C = np.array([[np.zeros((N,dim)) for x in range(dim)] for z in range(M)],dtype=np.float64)\n",
    "\n",
    "for i in range(dim):\n",
    "    for j in range(M):\n",
    "        C[j,i] = A\n",
    "        C[j,i,:,i] = B[j, i]  \n",
    "         "
   ]
  },
  {
   "cell_type": "code",
   "execution_count": 17,
   "metadata": {},
   "outputs": [],
   "source": [
    "# values of conditional outputs\n",
    "# shape(8192, 4, 8192, 1)\n",
    "Y2=np.array([[np.zeros((N,1)) for x in range(dim)] for z in range(N)],dtype=np.float64)\n",
    "y2=np.array([[np.zeros((N,1)) for x in range(dim)] for z in range(N)],dtype=np.float64)"
   ]
  },
  {
   "cell_type": "code",
   "execution_count": 18,
   "metadata": {},
   "outputs": [],
   "source": [
    "# shape(1, 4, 31, 64)\n",
    "qy_alp2=np.array([[np.zeros((len(alp),M)) for x in range(dim)] for z in range(1)],dtype=np.float64)"
   ]
  },
  {
   "cell_type": "code",
   "execution_count": 19,
   "metadata": {},
   "outputs": [],
   "source": [
    "for i in range(dim):\n",
    "    for j in range(M):\n",
    "        Y2[j,i] = np.vstack(objfun(C[j,i]))  # values of conditional outputs\n",
    "        Y2[j,i].sort(axis=0)\n",
    "        y2[j,i] = Y2[j,i] # reorder in ascending order\n",
    "        for pp in range(len(alp)):\n",
    "            qy_alp2[0,i,pp,j]=y2[j,i][(np.floor(alp[pp]*N)-1).astype(int)] # conditioanl q_Y(alp)"
   ]
  },
  {
   "cell_type": "markdown",
   "metadata": {},
   "source": [
    "## solve q_1(alp)  and  q_2(alp)"
   ]
  },
  {
   "cell_type": "code",
   "execution_count": 20,
   "metadata": {},
   "outputs": [],
   "source": [
    "# shape(1, 4, 1, 64)\n",
    "delt=np.array([[np.zeros((1,M)) for x in range(dim)] for z in range(1)],dtype=np.float64)"
   ]
  },
  {
   "cell_type": "code",
   "execution_count": 21,
   "metadata": {},
   "outputs": [],
   "source": [
    "q1_alp=np.zeros((len(alp),dim))\n",
    "q2_alp=np.zeros((len(alp),dim))"
   ]
  },
  {
   "cell_type": "code",
   "execution_count": 22,
   "metadata": {},
   "outputs": [],
   "source": [
    "for i in range(dim):\n",
    "    for pp in range(len(alp)):\n",
    "        delt[0,i]=qy_alp2[0,i,pp,:] - qy_alp1[pp]  # delt\n",
    "        q1_alp[pp,i]=np.mean(np.absolute(delt[0,i]))  # |delt|\n",
    "        q2_alp[pp,i]=np.mean(delt[0,i]**2)  # (delt)^2"
   ]
  },
  {
   "cell_type": "code",
   "execution_count": 26,
   "metadata": {},
   "outputs": [
    {
     "data": {
      "text/plain": [
       "(31,)"
      ]
     },
     "execution_count": 26,
     "metadata": {},
     "output_type": "execute_result"
    }
   ],
   "source": [
    "qy_alp1.shape"
   ]
  },
  {
   "cell_type": "markdown",
   "metadata": {},
   "source": [
    "## solve Q_1(alp)  and  Q_2(alp)"
   ]
  },
  {
   "cell_type": "code",
   "execution_count": 212,
   "metadata": {},
   "outputs": [],
   "source": [
    "# shape(1, 31)\n",
    "q1=np.zeros(len(alp))\n",
    "q2=np.zeros(len(alp))\n",
    "\n",
    "\n",
    "Q1_alp=np.zeros((len(alp),dim))\n",
    "Q2_alp=np.zeros((len(alp),dim))"
   ]
  },
  {
   "cell_type": "code",
   "execution_count": 213,
   "metadata": {},
   "outputs": [],
   "source": [
    "for pp in range(len(alp)):\n",
    "    q1[pp]=np.sum(q1_alp[pp,:])\n",
    "    q2[pp]=np.sum(q2_alp[pp,:])\n",
    "    for i in range(dim):\n",
    "        Q1_alp[pp,i]=q1_alp[pp,i]/q1[pp]\n",
    "        Q2_alp[pp,i]=q2_alp[pp,i]/q2[pp]\n"
   ]
  },
  {
   "cell_type": "code",
   "execution_count": 214,
   "metadata": {},
   "outputs": [
    {
     "data": {
      "text/plain": [
       "[<matplotlib.lines.Line2D at 0x7fbc51d22f50>,\n",
       " <matplotlib.lines.Line2D at 0x7fbc51d17850>,\n",
       " <matplotlib.lines.Line2D at 0x7fbc51e8d050>,\n",
       " <matplotlib.lines.Line2D at 0x7fbc51e8d250>]"
      ]
     },
     "execution_count": 214,
     "metadata": {},
     "output_type": "execute_result"
    },
    {
     "data": {
      "image/png": "[encoded data removed]",
      "text/plain": [
       "<Figure size 432x288 with 1 Axes>"
      ]
     },
     "metadata": {
      "needs_background": "light"
     },
     "output_type": "display_data"
    }
   ],
   "source": [
    "plt.plot(alp,Q1_alp[:,0],'rs--',alp,Q1_alp[:,1],'bs--',alp,Q1_alp[:,2],'gs--',alp,Q1_alp[:,3],'cs--')\n",
    "\n",
    "plt.plot(alp,Q2_alp[:,0],'r*--',alp,Q2_alp[:,1],'b*--',alp,Q2_alp[:,2],'g*--',alp,Q2_alp[:,3],'c*--')\n"
   ]
  },
  {
   "cell_type": "markdown",
   "metadata": {},
   "source": [
    "# Test 2: $Y=x_1-x_2+x_3-x_4$"
   ]
  },
  {
   "cell_type": "code",
   "execution_count": 41,
   "metadata": {},
   "outputs": [],
   "source": [
    "from scipy.stats import expon"
   ]
  },
  {
   "cell_type": "code",
   "execution_count": 68,
   "metadata": {},
   "outputs": [],
   "source": [
    "# Total number of sample points\n",
    "N = 2**13 # 8192\n",
    "\n",
    "# range of alpha\n",
    "dalp = (0.98-0.02)/30   # 0.032\n",
    "alp = np.arange(0.02, 0.98+dalp, dalp) \n",
    "\n",
    "# number of conditional samples\n",
    "M = 64"
   ]
  },
  {
   "cell_type": "code",
   "execution_count": 69,
   "metadata": {},
   "outputs": [],
   "source": [
    "a = [1,-1,1,-1]\n",
    "\n",
    "def objfun(x):\n",
    "    result = a[0]*x[:,0]+a[1]*x[:,1]+a[2]*x[:,2]+a[3]*x[:,3]\n",
    "    return result\n",
    "\n",
    "dist_type=\"Exponential\"\n",
    "\n",
    "# dimension of inputs\n",
    "dim = np.size(a) # 4"
   ]
  },
  {
   "cell_type": "code",
   "execution_count": 70,
   "metadata": {},
   "outputs": [],
   "source": [
    "A = np.zeros((N,dim))\n",
    "B = np.zeros((M,dim))"
   ]
  },
  {
   "cell_type": "code",
   "execution_count": 71,
   "metadata": {},
   "outputs": [],
   "source": [
    "X01 = cp.generate_samples(order=N, domain=dim, rule=\"S\").T\n",
    "X02 = cp.generate_samples(order=M, domain=dim, rule=\"S\").T"
   ]
  },
  {
   "cell_type": "code",
   "execution_count": 72,
   "metadata": {},
   "outputs": [],
   "source": [
    "# if dist_type==\"Normal\":\n",
    "#     A = norm.ppf(X01,loc=miu, scale=sd)\n",
    "#     B = norm.ppf(X02,loc=miu, scale=sd)\n",
    "# elif dist_type==\"Exponential\":\n",
    "#     A = expon.ppf(X01)\n",
    "#     B = expon.ppf(X02)\n",
    "    \n",
    "A = expon.ppf(X01)"
   ]
  },
  {
   "cell_type": "code",
   "execution_count": 48,
   "metadata": {},
   "outputs": [],
   "source": [
    "Y1 = objfun(A)"
   ]
  },
  {
   "cell_type": "code",
   "execution_count": 49,
   "metadata": {},
   "outputs": [],
   "source": [
    "y1 = np.sort(Y1)"
   ]
  },
  {
   "cell_type": "code",
   "execution_count": 73,
   "metadata": {},
   "outputs": [
    {
     "data": {
      "text/plain": [
       "<matplotlib.axes._subplots.AxesSubplot at 0x7ffab4ba5d50>"
      ]
     },
     "execution_count": 73,
     "metadata": {},
     "output_type": "execute_result"
    },
    {
     "data": {
      "image/png": "[encoded data removed]",
      "text/plain": [
       "<Figure size 432x288 with 1 Axes>"
      ]
     },
     "metadata": {
      "needs_background": "light"
     },
     "output_type": "display_data"
    }
   ],
   "source": [
    "from scipy import stats\n",
    "import matplotlib.pyplot as plt\n",
    "import numpy as np\n",
    "import seaborn as sns\n",
    "\n",
    "arr = y1\n",
    "\n",
    "# # plot histogram\n",
    "# plt.subplot(221)\n",
    "# plt.hist(arr)\n",
    "\n",
    "# obtain histogram data\n",
    "# plt.subplot(222)\n",
    "hist, bin_edges = np.histogram(arr)\n",
    "# plt.plot(hist)\n",
    "\n",
    "# fit histogram curve\n",
    "# plt.subplot(223)\n",
    "# sns.distplot(arr, kde=False, fit=stats.gamma, rug=True)\n",
    "# plt.show()\n",
    "sns.kdeplot(arr)"
   ]
  },
  {
   "cell_type": "code",
   "execution_count": 105,
   "metadata": {},
   "outputs": [],
   "source": [
    "q_index = (np.floor(alp*N)-1).astype(int)\n",
    "qy_alp1 = y1[q_index]"
   ]
  },
  {
   "cell_type": "code",
   "execution_count": 106,
   "metadata": {},
   "outputs": [],
   "source": [
    "# conditional sample matrix C,with shape(64, 4, 8192, 4)\n",
    "C = np.array([[np.zeros((N,dim)) for x in range(dim)] for z in range(M)],dtype=np.float64)\n",
    "\n",
    "for i in range(dim):\n",
    "    for j in range(M):\n",
    "        C[j,i] = A\n",
    "        C[j,i,:,i] = B[j, i] "
   ]
  },
  {
   "cell_type": "code",
   "execution_count": 107,
   "metadata": {},
   "outputs": [],
   "source": [
    "# values of conditional outputs\n",
    "# shape(8192, 4, 8192, 1)\n",
    "Y2=np.array([[np.zeros((N,1)) for x in range(dim)] for z in range(N)],dtype=np.float64)\n",
    "y2=np.array([[np.zeros((N,1)) for x in range(dim)] for z in range(N)],dtype=np.float64)"
   ]
  },
  {
   "cell_type": "code",
   "execution_count": 108,
   "metadata": {},
   "outputs": [],
   "source": [
    "# shape(1, 4, 31, 64)\n",
    "qy_alp2=np.array([[np.zeros((len(alp),M)) for x in range(dim)] for z in range(1)],dtype=np.float64)"
   ]
  },
  {
   "cell_type": "code",
   "execution_count": 109,
   "metadata": {},
   "outputs": [],
   "source": [
    "for i in range(dim):\n",
    "    for j in range(M):\n",
    "        Y2[j,i] = np.vstack(objfun(C[j,i]))  # values of conditional outputs\n",
    "        Y2[j,i].sort(axis=0)\n",
    "        y2[j,i] = Y2[j,i] # reorder in ascending order\n",
    "        for pp in range(len(alp)):\n",
    "            qy_alp2[0,i,pp,j]=y2[j,i][(np.floor(alp[pp]*N)-1).astype(int)] # conditioanl q_Y(alp)"
   ]
  },
  {
   "cell_type": "code",
   "execution_count": 110,
   "metadata": {},
   "outputs": [],
   "source": [
    "# shape(1, 4, 1, 64)\n",
    "delt=np.array([[np.zeros((1,M)) for x in range(dim)] for z in range(1)],dtype=np.float64)"
   ]
  },
  {
   "cell_type": "code",
   "execution_count": 111,
   "metadata": {},
   "outputs": [],
   "source": [
    "q1_alp=np.zeros((len(alp),dim))\n",
    "q2_alp=np.zeros((len(alp),dim))"
   ]
  },
  {
   "cell_type": "code",
   "execution_count": 112,
   "metadata": {},
   "outputs": [],
   "source": [
    "for i in range(dim):\n",
    "    for pp in range(len(alp)):\n",
    "        delt[0,i]=qy_alp2[0,i,pp,:] - qy_alp1[pp]  # delt\n",
    "        q1_alp[pp,i]=np.mean(np.absolute(delt[0,i]))  # |delt|\n",
    "        q2_alp[pp,i]=np.mean(delt[0,i]**2)  # (delt)^2"
   ]
  },
  {
   "cell_type": "code",
   "execution_count": 113,
   "metadata": {},
   "outputs": [],
   "source": [
    "# shape(1, 31)\n",
    "q1=np.zeros(len(alp))\n",
    "q2=np.zeros(len(alp))\n",
    "\n",
    "\n",
    "Q1_alp=np.zeros((len(alp),dim))\n",
    "Q2_alp=np.zeros((len(alp),dim))"
   ]
  },
  {
   "cell_type": "code",
   "execution_count": 114,
   "metadata": {},
   "outputs": [],
   "source": [
    "for pp in range(len(alp)):\n",
    "    q1[pp]=np.sum(q1_alp[pp,:])\n",
    "    q2[pp]=np.sum(q2_alp[pp,:])\n",
    "    for i in range(dim):\n",
    "        Q1_alp[pp,i]=q1_alp[pp,i]/q1[pp]\n",
    "        Q2_alp[pp,i]=q2_alp[pp,i]/q2[pp]\n"
   ]
  },
  {
   "cell_type": "code",
   "execution_count": 115,
   "metadata": {},
   "outputs": [
    {
     "data": {
      "text/plain": [
       "[<matplotlib.lines.Line2D at 0x7fb9036a6150>,\n",
       " <matplotlib.lines.Line2D at 0x7fb9036a6390>,\n",
       " <matplotlib.lines.Line2D at 0x7fb9036a62d0>,\n",
       " <matplotlib.lines.Line2D at 0x7fb9036a64d0>]"
      ]
     },
     "execution_count": 115,
     "metadata": {},
     "output_type": "execute_result"
    },
    {
     "data": {
      "image/png": "[encoded data removed]",
      "text/plain": [
       "<Figure size 432x288 with 1 Axes>"
      ]
     },
     "metadata": {
      "needs_background": "light"
     },
     "output_type": "display_data"
    }
   ],
   "source": [
    "plt.plot(alp,Q1_alp[:,0],'rs--',alp,Q1_alp[:,1],'bs--',alp,Q1_alp[:,2],'gs--',alp,Q1_alp[:,3],'cs--')\n",
    "\n",
    "plt.plot(alp,Q2_alp[:,0],'r*--',alp,Q2_alp[:,1],'b*--',alp,Q2_alp[:,2],'g*--',alp,Q2_alp[:,3],'c*--')"
   ]
  },
  {
   "cell_type": "markdown",
   "metadata": {},
   "source": [
    "# Test 3: $Y=sin(x_1)+7(sin x_2)^2+0.1x_3^4sin(x_1)$"
   ]
  },
  {
   "cell_type": "code",
   "execution_count": 51,
   "metadata": {},
   "outputs": [],
   "source": [
    "def objfun(x):\n",
    "\n",
    "    result = np.sin(x[:,0]) + 7 * np.sin(x[:,1])**2 + 0.1 * x[:,2]**4*np.sin(x[:,0])\n",
    "    \n",
    "    return result\n",
    "\n",
    "dim = 3"
   ]
  },
  {
   "cell_type": "code",
   "execution_count": 52,
   "metadata": {},
   "outputs": [],
   "source": [
    "# Total number of sample points\n",
    "N = 2**13 # 8192\n",
    "\n",
    "# range of alpha\n",
    "dalp = (0.98-0.02)/30   # 0.032\n",
    "alp = np.arange(0.02, 0.98+dalp, dalp) \n",
    "\n",
    "# number of conditional samples\n",
    "M = 64"
   ]
  },
  {
   "cell_type": "code",
   "execution_count": 53,
   "metadata": {},
   "outputs": [],
   "source": [
    "A = np.zeros((N,dim))\n",
    "B = np.zeros((M,dim))"
   ]
  },
  {
   "cell_type": "code",
   "execution_count": 54,
   "metadata": {},
   "outputs": [],
   "source": [
    "X01 = cp.generate_samples(order=N, domain=dim, rule=\"S\").T\n",
    "X02 = cp.generate_samples(order=M, domain=dim, rule=\"S\").T"
   ]
  },
  {
   "cell_type": "code",
   "execution_count": 55,
   "metadata": {},
   "outputs": [],
   "source": [
    "from scipy.stats import uniform\n",
    "\n",
    "A = uniform.ppf(X01,loc=-np.pi,scale=2*np.pi)\n",
    "B = uniform.ppf(X02,loc=-np.pi,scale=2*np.pi)"
   ]
  },
  {
   "cell_type": "code",
   "execution_count": 56,
   "metadata": {},
   "outputs": [],
   "source": [
    "Y1 = objfun(A)"
   ]
  },
  {
   "cell_type": "code",
   "execution_count": 67,
   "metadata": {},
   "outputs": [
    {
     "data": {
      "text/plain": [
       "<matplotlib.axes._subplots.AxesSubplot at 0x7ffab4288750>"
      ]
     },
     "execution_count": 67,
     "metadata": {},
     "output_type": "execute_result"
    },
    {
     "data": {
      "image/png": "[encoded data removed]",
      "text/plain": [
       "<Figure size 432x288 with 1 Axes>"
      ]
     },
     "metadata": {
      "needs_background": "light"
     },
     "output_type": "display_data"
    }
   ],
   "source": [
    "from scipy import stats\n",
    "import matplotlib.pyplot as plt\n",
    "import numpy as np\n",
    "import seaborn as sns\n",
    "\n",
    "arr = Y1\n",
    "\n",
    "# # plot histogram\n",
    "# plt.subplot(221)\n",
    "# plt.hist(arr)\n",
    "\n",
    "# obtain histogram data\n",
    "# plt.subplot(222)\n",
    "hist, bin_edges = np.histogram(arr)\n",
    "# plt.plot(hist)\n",
    "\n",
    "# fit histogram curve\n",
    "# # plt.subplot(223)\n",
    "# sns.distplot(arr, kde=False,  rug=False)\n",
    "# plt.show()\n",
    "# plt.plot(arr)\n",
    "sns.kdeplot(arr)"
   ]
  },
  {
   "cell_type": "code",
   "execution_count": 149,
   "metadata": {},
   "outputs": [],
   "source": [
    "y1 = np.sort(Y1)"
   ]
  },
  {
   "cell_type": "code",
   "execution_count": 150,
   "metadata": {},
   "outputs": [],
   "source": [
    "q_index = (np.floor(alp*N)-1).astype(int)\n"
   ]
  },
  {
   "cell_type": "code",
   "execution_count": 151,
   "metadata": {},
   "outputs": [],
   "source": [
    "qy_alp1 = y1[q_index]"
   ]
  },
  {
   "cell_type": "code",
   "execution_count": 152,
   "metadata": {},
   "outputs": [],
   "source": [
    "C = np.array([[np.zeros((N,dim)) for x in range(dim)] for z in range(M)],dtype=np.float64)\n",
    "\n",
    "for i in range(dim):\n",
    "    for j in range(M):\n",
    "        C[j,i] = A\n",
    "        C[j,i,:,i] = B[j, i] "
   ]
  },
  {
   "cell_type": "code",
   "execution_count": 153,
   "metadata": {},
   "outputs": [],
   "source": [
    "# values of conditional outputs\n",
    "# shape(8192, 4, 8192, 1)\n",
    "Y2=np.array([[np.zeros((N,1)) for x in range(dim)] for z in range(N)],dtype=np.float64)\n",
    "y2=np.array([[np.zeros((N,1)) for x in range(dim)] for z in range(N)],dtype=np.float64)"
   ]
  },
  {
   "cell_type": "code",
   "execution_count": 154,
   "metadata": {},
   "outputs": [],
   "source": [
    "# shape(1, 4, 31, 64)\n",
    "qy_alp2=np.array([[np.zeros((len(alp),M)) for x in range(dim)] for z in range(1)],dtype=np.float64)"
   ]
  },
  {
   "cell_type": "code",
   "execution_count": 155,
   "metadata": {},
   "outputs": [],
   "source": [
    "for i in range(dim):\n",
    "    for j in range(M):\n",
    "        Y2[j,i] = np.vstack(objfun(C[j,i]))  # values of conditional outputs\n",
    "        Y2[j,i].sort(axis=0)\n",
    "        y2[j,i] = Y2[j,i] # reorder in ascending order\n",
    "        for pp in range(len(alp)):\n",
    "            qy_alp2[0,i,pp,j]=y2[j,i][(np.floor(alp[pp]*N)-1).astype(int)] # conditioanl q_Y(alp)"
   ]
  },
  {
   "cell_type": "code",
   "execution_count": 156,
   "metadata": {},
   "outputs": [],
   "source": [
    "# shape(1, 4, 1, 64)\n",
    "delt=np.array([[np.zeros((1,M)) for x in range(dim)] for z in range(1)],dtype=np.float64)"
   ]
  },
  {
   "cell_type": "code",
   "execution_count": 157,
   "metadata": {},
   "outputs": [],
   "source": [
    "q1_alp=np.zeros((len(alp),dim))\n",
    "q2_alp=np.zeros((len(alp),dim))"
   ]
  },
  {
   "cell_type": "code",
   "execution_count": 158,
   "metadata": {},
   "outputs": [],
   "source": [
    "for i in range(dim):\n",
    "    for pp in range(len(alp)):\n",
    "        delt[0,i]=qy_alp2[0,i,pp,:] - qy_alp1[pp]  # delt\n",
    "        q1_alp[pp,i]=np.mean(np.absolute(delt[0,i]))  # |delt|\n",
    "        q2_alp[pp,i]=np.mean(delt[0,i]**2)  # (delt)^2"
   ]
  },
  {
   "cell_type": "code",
   "execution_count": 159,
   "metadata": {},
   "outputs": [],
   "source": [
    "# shape(1, 31)\n",
    "q1=np.zeros(len(alp))\n",
    "q2=np.zeros(len(alp))\n",
    "\n",
    "\n",
    "Q1_alp=np.zeros((len(alp),dim))\n",
    "Q2_alp=np.zeros((len(alp),dim))"
   ]
  },
  {
   "cell_type": "code",
   "execution_count": 160,
   "metadata": {},
   "outputs": [],
   "source": [
    "for pp in range(len(alp)):\n",
    "    q1[pp]=np.sum(q1_alp[pp,:])\n",
    "    q2[pp]=np.sum(q2_alp[pp,:])\n",
    "    for i in range(dim):\n",
    "        Q1_alp[pp,i]=q1_alp[pp,i]/q1[pp]\n",
    "        Q2_alp[pp,i]=q2_alp[pp,i]/q2[pp]"
   ]
  },
  {
   "cell_type": "code",
   "execution_count": 162,
   "metadata": {},
   "outputs": [
    {
     "data": {
      "text/plain": [
       "[<matplotlib.lines.Line2D at 0x7fbd6d190250>,\n",
       " <matplotlib.lines.Line2D at 0x7fbdc96eb590>,\n",
       " <matplotlib.lines.Line2D at 0x7fbd6d16fc10>]"
      ]
     },
     "execution_count": 162,
     "metadata": {},
     "output_type": "execute_result"
    },
    {
     "data": {
      "image/png": "[encoded data removed]",
      "text/plain": [
       "<Figure size 432x288 with 1 Axes>"
      ]
     },
     "metadata": {
      "needs_background": "light"
     },
     "output_type": "display_data"
    }
   ],
   "source": [
    "plt.plot(alp,Q1_alp[:,0],'rs--',alp,Q1_alp[:,1],'bs--',alp,Q1_alp[:,2],'gs--')\n",
    "\n",
    "plt.plot(alp,Q2_alp[:,0],'r*--',alp,Q2_alp[:,1],'b*--',alp,Q2_alp[:,2],'g*--')"
   ]
  },
  {
   "cell_type": "markdown",
   "metadata": {},
   "source": [
    "# Test 4: $Y=x_1 x_3+x_2 x_4$"
   ]
  },
  {
   "cell_type": "code",
   "execution_count": 74,
   "metadata": {},
   "outputs": [
    {
     "data": {
      "text/plain": [
       "4"
      ]
     },
     "execution_count": 74,
     "metadata": {},
     "output_type": "execute_result"
    }
   ],
   "source": [
    "miu = np.array([0, 0, 250, 400])\n",
    "\n",
    "cov = np.array(\n",
    "    [\n",
    "        [16, 2.4, 0, 0],\n",
    "        [2.4, 4, 0, 0],\n",
    "        [0, 0, 40000, -18000],\n",
    "        [0, 0, -18000, 90000],\n",
    "    ],\n",
    ")\n",
    "\n",
    "dim = np.size(miu)\n",
    "np.size(miu)"
   ]
  },
  {
   "cell_type": "code",
   "execution_count": 75,
   "metadata": {},
   "outputs": [],
   "source": [
    "# Total number of sample points\n",
    "N = 2**13 # 8192\n",
    "\n",
    "# range of alpha\n",
    "dalp = (0.98-0.02)/30   # 0.032\n",
    "alp = np.arange(0.02, 0.98+dalp, dalp) \n",
    "\n",
    "# number of conditional samples\n",
    "M = 64\n",
    "\n",
    "# mean for normal distribution\n",
    "miu = np.array([1,3,5,7])\n",
    "\n",
    "# standard deviation for normal distribution\n",
    "# sd = np.array([1,1.5,2,2.5])\n",
    "cov = np.array(\n",
    "    [\n",
    "        [1, 0, 0, 0],\n",
    "        [0, 2.25, 0, 0],\n",
    "        [0, 0, 4, 0],\n",
    "        [0, 0, 0, 6.25],\n",
    "    ],\n",
    ")\n",
    "\n",
    "# objective function\n",
    "a = [1,1,1,1]\n",
    "def objfun(x):\n",
    "    result = a[0]*x[:,0]+a[1]*x[:,1]+a[2]*x[:,2]+a[3]*x[:,3]\n",
    "    return result\n",
    "\n",
    "# dimension of inputs\n",
    "dim = np.size(miu) # 4\n",
    "\n",
    "# distribution type\n",
    "dist_type=\"Normal\"\n",
    "\n",
    "skip=0"
   ]
  },
  {
   "cell_type": "code",
   "execution_count": 76,
   "metadata": {},
   "outputs": [],
   "source": [
    "def objfun(x):\n",
    "\n",
    "    result = x[:,0]*x[:,2]+x[:,1]*x[:,3]\n",
    "    \n",
    "    return result\n"
   ]
  },
  {
   "cell_type": "code",
   "execution_count": 77,
   "metadata": {},
   "outputs": [],
   "source": [
    "# Total number of sample points\n",
    "N = 2**13 # 8192\n",
    "\n",
    "# range of alpha\n",
    "dalp = (0.98-0.02)/30   # 0.032\n",
    "alp = np.arange(0.02, 0.98+dalp, dalp) \n",
    "\n",
    "# number of conditional samples\n",
    "M = 64"
   ]
  },
  {
   "cell_type": "code",
   "execution_count": 78,
   "metadata": {},
   "outputs": [],
   "source": [
    "A = np.zeros((N,dim))\n",
    "B = np.zeros((M,dim))"
   ]
  },
  {
   "cell_type": "code",
   "execution_count": 79,
   "metadata": {},
   "outputs": [],
   "source": [
    "# get_uniform_base_draws\n",
    "X001 = cp.generate_samples(order=N+skip, domain=dim, rule=\"S\").T\n",
    "X002 = cp.generate_samples(order=M+skip, domain=dim, rule=\"S\").T\n",
    "\n",
    "X01 = X001[skip:, :dim]\n",
    "X02= X002[skip:, :dim]\n"
   ]
  },
  {
   "cell_type": "code",
   "execution_count": 80,
   "metadata": {},
   "outputs": [],
   "source": [
    "# uniform_to_multivariate_normal\n",
    "X1 = norm.ppf(X01)\n",
    "X2 = norm.ppf(X02)\n",
    "\n",
    "cholesky = np.linalg.cholesky(cov)\n",
    "\n",
    "A = miu + cholesky.dot(X1.T).T\n",
    "B = miu + cholesky.dot(X2.T).T\n"
   ]
  },
  {
   "cell_type": "code",
   "execution_count": 28,
   "metadata": {},
   "outputs": [],
   "source": [
    "# import seaborn as sns; \n",
    "# sns.set()\n",
    "# sns.jointplot(x=A[:,0],\n",
    "#               y=A[:,1], \n",
    "#               kind=\"kde\", \n",
    "#               space=0);"
   ]
  },
  {
   "cell_type": "code",
   "execution_count": 352,
   "metadata": {},
   "outputs": [],
   "source": [
    "# sns.set()\n",
    "# sns.jointplot(x=B[:,0],\n",
    "#               y=B[:,1], \n",
    "#               kind=\"kde\", \n",
    "#               space=0);"
   ]
  },
  {
   "cell_type": "code",
   "execution_count": 321,
   "metadata": {},
   "outputs": [],
   "source": [
    "# hist, bin_edges = np.histogram(A)\n",
    "# width = (bin_edges[1] - bin_edges[0]) * 0.8\n",
    "# plt.bar(bin_edges[1:], hist/max(hist), width=width, color='#5B9BD5')\n",
    "\n",
    "# cdf = np.cumsum(hist/sum(hist))\n",
    "# plt.plot(bin_edges[1:], cdf, '-*', color='#ED7D31')\n",
    "\n",
    "\n",
    "# plt.grid()"
   ]
  },
  {
   "cell_type": "code",
   "execution_count": 322,
   "metadata": {},
   "outputs": [],
   "source": [
    "# from scipy import stats\n",
    "# Y1 = objfun(A)\n",
    "# Y1\n",
    "\n",
    "# hist, bin_edges = np.histogram(Y1)\n",
    "# width = (bin_edges[1] - bin_edges[0]) * 0.8\n",
    "# plt.bar(bin_edges[1:], hist/max(hist), width=width, color='#5B9BD5')\n",
    "\n",
    "# cdf = np.cumsum(hist/sum(hist))\n",
    "# plt.plot(bin_edges[1:], cdf, '-*', color='#ED7D31')\n",
    "\n",
    "\n",
    "# plt.grid()"
   ]
  },
  {
   "cell_type": "code",
   "execution_count": 81,
   "metadata": {},
   "outputs": [],
   "source": [
    "Y1 = objfun(A)\n",
    "y1 = np.sort(Y1)"
   ]
  },
  {
   "cell_type": "code",
   "execution_count": 54,
   "metadata": {},
   "outputs": [],
   "source": [
    "q_index = (np.floor(alp*N)-1).astype(int)"
   ]
  },
  {
   "cell_type": "code",
   "execution_count": 55,
   "metadata": {},
   "outputs": [],
   "source": [
    "qy_alp1 = y1[q_index]"
   ]
  },
  {
   "cell_type": "code",
   "execution_count": 56,
   "metadata": {},
   "outputs": [],
   "source": [
    "C = np.array([[np.zeros((N,dim)) for x in range(dim)] for z in range(M)],dtype=np.float64)\n",
    "\n",
    "for i in range(dim):\n",
    "    for j in range(M):\n",
    "        C[j,i] = A\n",
    "        C[j,i,:,i] = B[j, i] "
   ]
  },
  {
   "cell_type": "code",
   "execution_count": 57,
   "metadata": {},
   "outputs": [],
   "source": [
    "# values of conditional outputs\n",
    "# shape(8192, 4, 8192, 1)\n",
    "Y2=np.array([[np.zeros((N,1)) for x in range(dim)] for z in range(N)],dtype=np.float64)\n",
    "y2=np.array([[np.zeros((N,1)) for x in range(dim)] for z in range(N)],dtype=np.float64)"
   ]
  },
  {
   "cell_type": "code",
   "execution_count": 58,
   "metadata": {},
   "outputs": [],
   "source": [
    "# shape(1, 4, 31, 64)\n",
    "qy_alp2=np.array([[np.zeros((len(alp),M)) for x in range(dim)] for z in range(1)],dtype=np.float64)"
   ]
  },
  {
   "cell_type": "code",
   "execution_count": 59,
   "metadata": {},
   "outputs": [],
   "source": [
    "for i in range(dim):\n",
    "    for j in range(M):\n",
    "        Y2[j,i] = np.vstack(objfun(C[j,i]))  # values of conditional outputs\n",
    "        Y2[j,i].sort(axis=0)\n",
    "        y2[j,i] = Y2[j,i] # reorder in ascending order\n",
    "        for pp in range(len(alp)):\n",
    "            qy_alp2[0,i,pp,j]=y2[j,i][(np.floor(alp[pp]*N)-1).astype(int)] # conditioanl q_Y(alp)"
   ]
  },
  {
   "cell_type": "code",
   "execution_count": 60,
   "metadata": {},
   "outputs": [],
   "source": [
    "# shape(1, 4, 1, 64)\n",
    "delt=np.array([[np.zeros((1,M)) for x in range(dim)] for z in range(1)],dtype=np.float64)"
   ]
  },
  {
   "cell_type": "code",
   "execution_count": 61,
   "metadata": {},
   "outputs": [],
   "source": [
    "q1_alp=np.zeros((len(alp),dim))\n",
    "q2_alp=np.zeros((len(alp),dim))"
   ]
  },
  {
   "cell_type": "code",
   "execution_count": 62,
   "metadata": {},
   "outputs": [],
   "source": [
    "for i in range(dim):\n",
    "    for pp in range(len(alp)):\n",
    "        delt[0,i]=qy_alp2[0,i,pp,:] - qy_alp1[pp]  # delt\n",
    "        q1_alp[pp,i]=np.mean(np.absolute(delt[0,i]))  # |delt|\n",
    "        q2_alp[pp,i]=np.mean(delt[0,i]**2)  # (delt)^2"
   ]
  },
  {
   "cell_type": "code",
   "execution_count": 63,
   "metadata": {},
   "outputs": [],
   "source": [
    "# shape(1, 31)\n",
    "q1=np.zeros(len(alp))\n",
    "q2=np.zeros(len(alp))\n",
    "\n",
    "\n",
    "Q1_alp=np.zeros((len(alp),dim))\n",
    "Q2_alp=np.zeros((len(alp),dim))"
   ]
  },
  {
   "cell_type": "code",
   "execution_count": 64,
   "metadata": {},
   "outputs": [],
   "source": [
    "for pp in range(len(alp)):\n",
    "    q1[pp]=np.sum(q1_alp[pp,:])\n",
    "    q2[pp]=np.sum(q2_alp[pp,:])\n",
    "    for i in range(dim):\n",
    "        Q1_alp[pp,i]=q1_alp[pp,i]/q1[pp]\n",
    "        Q2_alp[pp,i]=q2_alp[pp,i]/q2[pp]"
   ]
  },
  {
   "cell_type": "code",
   "execution_count": 65,
   "metadata": {},
   "outputs": [
    {
     "data": {
      "text/plain": [
       "[<matplotlib.lines.Line2D at 0x7fea2c180050>,\n",
       " <matplotlib.lines.Line2D at 0x7fea2c180290>,\n",
       " <matplotlib.lines.Line2D at 0x7fea2c180210>,\n",
       " <matplotlib.lines.Line2D at 0x7fea2c180410>]"
      ]
     },
     "execution_count": 65,
     "metadata": {},
     "output_type": "execute_result"
    },
    {
     "data": {
      "image/png": "[encoded data removed]",
      "text/plain": [
       "<Figure size 432x288 with 1 Axes>"
      ]
     },
     "metadata": {
      "needs_background": "light"
     },
     "output_type": "display_data"
    }
   ],
   "source": [
    "plt.plot(alp,Q1_alp[:,0],'rs--',alp,Q1_alp[:,1],'bs--',alp,Q1_alp[:,2],'gs--',alp,Q1_alp[:,3],'cs--')\n",
    "\n",
    "plt.plot(alp,Q2_alp[:,0],'r*--',alp,Q2_alp[:,1],'b*--',alp,Q2_alp[:,2],'g*--',alp,Q2_alp[:,3],'c*--')"
   ]
  },
  {
   "cell_type": "code",
   "execution_count": 44,
   "metadata": {},
   "outputs": [
    {
     "data": {
      "text/plain": [
       "[<matplotlib.lines.Line2D at 0x7feb2ed2f650>,\n",
       " <matplotlib.lines.Line2D at 0x7feb2ed2f890>,\n",
       " <matplotlib.lines.Line2D at 0x7feb2ed2f7d0>,\n",
       " <matplotlib.lines.Line2D at 0x7feb2ed2fa10>]"
      ]
     },
     "execution_count": 44,
     "metadata": {},
     "output_type": "execute_result"
    },
    {
     "data": {
      "image/png": "[encoded data removed]",
      "text/plain": [
       "<Figure size 432x288 with 1 Axes>"
      ]
     },
     "metadata": {
      "needs_background": "light"
     },
     "output_type": "display_data"
    }
   ],
   "source": [
    "# plt.plot(alp, q1_alp[:,0],'rs--',alp,q1_alp[:,1],'bs--',alp,q1_alp[:,2],'gs--',alp,q1_alp[:,3],'cs--')\n",
    "\n",
    "plt.plot(alp,q2_alp[:,0],'r*--',alp,q2_alp[:,1],'b*--',alp,q2_alp[:,2],'g*--',alp,q2_alp[:,3],'c*--')"
   ]
  }
 ],
 "metadata": {
  "kernelspec": {
   "display_name": "Python 3",
   "language": "python",
   "name": "python3"
  },
  "language_info": {
   "codemirror_mode": {
    "name": "ipython",
    "version": 3
   },
   "file_extension": ".py",
   "mimetype": "text/x-python",
   "name": "python",
   "nbconvert_exporter": "python",
   "pygments_lexer": "ipython3",
   "version": "3.7.4"
  },
  "toc": {
   "base_numbering": 1,
   "nav_menu": {},
   "number_sections": true,
   "sideBar": true,
   "skip_h1_title": false,
   "title_cell": "Table of Contents",
   "title_sidebar": "Contents",
   "toc_cell": false,
   "toc_position": {},
   "toc_section_display": true,
   "toc_window_display": false
  }
 },
 "nbformat": 4,
 "nbformat_minor": 2
}
