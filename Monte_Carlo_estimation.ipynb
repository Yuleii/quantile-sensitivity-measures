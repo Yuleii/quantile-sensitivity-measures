{
 "cells": [
  {
   "cell_type": "code",
   "execution_count": 1,
   "metadata": {},
   "outputs": [],
   "source": [
    "import numpy as np\n",
    "import chaospy as cp\n",
    "from scipy.stats import norm\n",
    "import matplotlib.pyplot as plt"
   ]
  },
  {
   "cell_type": "markdown",
   "metadata": {},
   "source": [
    "# kucherenko_quantile function"
   ]
  },
  {
   "cell_type": "code",
   "execution_count": 11,
   "metadata": {},
   "outputs": [],
   "source": [
    "def kucherenko_quantile(alp,N,miu,sd):\n",
    "    q1_alp, q2_alp = _quantile_based_measures(N,M,dim,alp)\n",
    "    Q1_alp, Q2_alp = _nomalized_quantile_based_measures(N,M,dim,alp)\n",
    "    \n",
    "    return q1_alp, q2_alp, Q1_alp, Q2_alp\n",
    "\n",
    "\n",
    "def _quantile_based_measures(N,M,dim,alp):\n",
    "    # shape(1, 4, 1, 64)\n",
    "    delt=np.array([[np.zeros((1,M)) for x in range(dim)] for z in range(1)],dtype=np.float64)\n",
    "    q1_alp=np.zeros((len(alp),dim))\n",
    "    q2_alp=np.zeros((len(alp),dim))\n",
    "    \n",
    "    qy_alp1 = _unconditional_q_Y(N,M,dim)\n",
    "    qy_alp2 = _conditional_q_Y(N,M,dim,alp)\n",
    "    \n",
    "    for i in range(dim):\n",
    "        for pp in range(len(alp)):\n",
    "            delt[0,i]=qy_alp2[0,i,pp,:] - qy_alp1[pp]  # delt\n",
    "            q1_alp[pp,i]=np.mean(np.absolute(delt[0,i]))  # |delt|\n",
    "            q2_alp[pp,i]=np.mean(delt[0,i]**2)  # (delt)^2\n",
    "            \n",
    "    return q1_alp, q2_alp\n",
    "\n",
    "\n",
    "def _nomalized_quantile_based_measures(N,M,dim,alp):\n",
    "    # shape(1, 31)\n",
    "    q1=np.zeros(len(alp))\n",
    "    q2=np.zeros(len(alp))\n",
    "\n",
    "    Q1_alp=np.zeros((len(alp),dim))\n",
    "    Q2_alp=np.zeros((len(alp),dim))\n",
    "    \n",
    "    q1_alp, q2_alp = _quantile_based_measures(N,M,dim,alp)\n",
    "    \n",
    "    for pp in range(len(alp)):\n",
    "        q1[pp]=np.sum(q1_alp[pp,:])\n",
    "        q2[pp]=np.sum(q2_alp[pp,:])\n",
    "        for i in range(dim):\n",
    "            Q1_alp[pp,i]=q1_alp[pp,i]/q1[pp]\n",
    "            Q2_alp[pp,i]=q2_alp[pp,i]/q2[pp]\n",
    "    \n",
    "    return Q1_alp, Q2_alp\n",
    "\n",
    "\n",
    "def _unconditional_q_Y(N,M,dim):\n",
    "    A,B  = _get_samples(N, M, dim)\n",
    "    # values of outputs\n",
    "    Y1 = objfun(A)\n",
    "    # reorder in ascending order\n",
    "    y1 = np.sort(Y1)\n",
    "    \n",
    "    # q_Y(alp)\n",
    "    q_index = (np.floor(alp*N)-1).astype(int)\n",
    "    qy_alp1 = y1[q_index]\n",
    "    \n",
    "    return qy_alp1 \n",
    "\n",
    "\n",
    "def _conditional_q_Y(N,M,dim,alp):\n",
    "    A,B  = _get_samples(N, M, dim)\n",
    "    \n",
    "    # conditional sample matrix C,with shape(64, 4, 8192, 4)\n",
    "    C = np.array([[np.zeros((N,dim)) for x in range(dim)] for z in range(M)],dtype=np.float64)\n",
    "\n",
    "    for i in range(dim):\n",
    "        for j in range(M):\n",
    "            C[j,i] = A\n",
    "            C[j,i,:,i] = B[j, i]  \n",
    "    # values of conditional outputs\n",
    "    # shape(8192, 4, 8192, 1)\n",
    "    Y2=np.array([[np.zeros((N,1)) for x in range(dim)] for z in range(N)],dtype=np.float64)\n",
    "    y2=np.array([[np.zeros((N,1)) for x in range(dim)] for z in range(N)],dtype=np.float64)\n",
    "    \n",
    "    # shape(1, 4, 31, 64)\n",
    "    qy_alp2=np.array([[np.zeros((len(alp),M)) for x in range(dim)] for z in range(1)],dtype=np.float64)\n",
    "    \n",
    "    for i in range(dim):\n",
    "        for j in range(M):\n",
    "            Y2[j,i] = np.vstack(objfun(C[j,i]))  # values of conditional outputs\n",
    "            Y2[j,i].sort(axis=0)\n",
    "            y2[j,i] = Y2[j,i] # reorder in ascending order\n",
    "            for pp in range(len(alp)):\n",
    "                qy_alp2[0,i,pp,j]=y2[j,i][(np.floor(alp[pp]*N)-1).astype(int)] # conditioanl q_Y(alp)\n",
    "    \n",
    "    return qy_alp2\n",
    "\n",
    "\n",
    "def _get_samples(N, M, dim):\n",
    "    \n",
    "    A = np.zeros((N,dim))\n",
    "    B = np.zeros((M,dim))\n",
    "    X01 = cp.generate_samples(order=N, domain=dim, rule=\"S\").T\n",
    "    X02 = cp.generate_samples(order=M, domain=dim, rule=\"S\").T\n",
    "    \n",
    "    A = norm.ppf(X01,loc=miu, scale=sd)\n",
    "    B = norm.ppf(X02,loc=miu, scale=sd)\n",
    "\n",
    "    return A,B"
   ]
  },
  {
   "cell_type": "markdown",
   "metadata": {},
   "source": [
    "# parameters"
   ]
  },
  {
   "cell_type": "code",
   "execution_count": 12,
   "metadata": {},
   "outputs": [],
   "source": [
    "# Total number of sample points\n",
    "N = 2**13 # 8192\n",
    "\n",
    "# range of alpha\n",
    "dalp = (0.98-0.02)/30   # 0.032\n",
    "alp = np.arange(0.02, 0.98+dalp, dalp) \n",
    "\n",
    "# number of conditional samples\n",
    "M = 64\n",
    "\n",
    "# dimension of inputs\n",
    "dim = np.size(miu) # 4"
   ]
  },
  {
   "cell_type": "markdown",
   "metadata": {},
   "source": [
    "# Test 1: Linear function"
   ]
  },
  {
   "cell_type": "code",
   "execution_count": 13,
   "metadata": {},
   "outputs": [],
   "source": [
    "# mean for normal distribution\n",
    "miu = np.array([1,3,5,7])\n",
    "\n",
    "# standard deviation for normal distribution\n",
    "sd = np.array([1,1.5,2,2.5])\n",
    "\n",
    "a = [1,1,1,1]\n",
    "\n",
    "def objfun(x):\n",
    "    result = a[0]*x[:,0]+a[1]*x[:,1]+a[2]*x[:,2]+a[3]*x[:,3]\n",
    "    return result"
   ]
  },
  {
   "cell_type": "code",
   "execution_count": 14,
   "metadata": {},
   "outputs": [],
   "source": [
    "q1_alp, q2_alp, Q1_alp, Q2_alp=kucherenko_quantile(alp,N,miu,sd)"
   ]
  },
  {
   "cell_type": "code",
   "execution_count": 10,
   "metadata": {},
   "outputs": [
    {
     "data": {
      "text/plain": [
       "[<matplotlib.lines.Line2D at 0x7ffa1de9ab10>,\n",
       " <matplotlib.lines.Line2D at 0x7ff8141ca710>,\n",
       " <matplotlib.lines.Line2D at 0x7ff8141ca650>,\n",
       " <matplotlib.lines.Line2D at 0x7ff8141ca8d0>]"
      ]
     },
     "execution_count": 10,
     "metadata": {},
     "output_type": "execute_result"
    },
    {
     "data": {
      "image/png": "[encoded data removed]",
      "text/plain": [
       "<Figure size 432x288 with 1 Axes>"
      ]
     },
     "metadata": {
      "needs_background": "light"
     },
     "output_type": "display_data"
    }
   ],
   "source": [
    "plt.plot(alp,Q1_alp[:,0],'rs--',alp,Q1_alp[:,1],'bs--',alp,Q1_alp[:,2],'gs--',alp,Q1_alp[:,3],'cs--')\n",
    "\n",
    "plt.plot(alp,Q2_alp[:,0],'r*--',alp,Q2_alp[:,1],'b*--',alp,Q2_alp[:,2],'g*--',alp,Q2_alp[:,3],'c*--')"
   ]
  },
  {
   "cell_type": "code",
   "execution_count": null,
   "metadata": {},
   "outputs": [],
   "source": []
  }
 ],
 "metadata": {
  "kernelspec": {
   "display_name": "Python 3",
   "language": "python",
   "name": "python3"
  },
  "language_info": {
   "codemirror_mode": {
    "name": "ipython",
    "version": 3
   },
   "file_extension": ".py",
   "mimetype": "text/x-python",
   "name": "python",
   "nbconvert_exporter": "python",
   "pygments_lexer": "ipython3",
   "version": "3.7.4"
  }
 },
 "nbformat": 4,
 "nbformat_minor": 2
}
