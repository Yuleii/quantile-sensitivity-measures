{
 "cells": [
  {
   "cell_type": "code",
   "execution_count": 3,
   "metadata": {},
   "outputs": [],
   "source": [
    "import numpy as np\n",
    "import chaospy as cp\n",
    "from scipy.stats import norm\n",
    "import matplotlib.pyplot as plt"
   ]
  },
  {
   "cell_type": "markdown",
   "metadata": {},
   "source": [
    "# benchmarks for test 1"
   ]
  },
  {
   "cell_type": "code",
   "execution_count": 4,
   "metadata": {},
   "outputs": [],
   "source": [
    "# given mean and covariance\n",
    "d = 4\n",
    "mean_1 = np.array([1, 3, 5, 7])\n",
    "cov_1 = np.array(\n",
    "    [\n",
    "        [1, 0, 0, 0],\n",
    "        [0, 2.25, 0, 0],\n",
    "        [0, 0, 4, 0],\n",
    "        [0, 0, 0, 6.25],\n",
    "    ],\n",
    ")\n",
    "\n",
    "\n",
    "dalp = (0.98-0.02)/30   # 0.032\n",
    "alp = np.arange(0.02, 0.98+dalp, dalp) "
   ]
  },
  {
   "cell_type": "code",
   "execution_count": 6,
   "metadata": {},
   "outputs": [],
   "source": [
    "# model function\n",
    "a = np.array([1,1,1,1])\n",
    "\n",
    "def objfun(x):\n",
    "    result = a[0]*x[:,0]+a[1]*x[:,1]+a[2]*x[:,2]+a[3]*x[:,3]\n",
    "    return result\n"
   ]
  },
  {
   "cell_type": "code",
   "execution_count": 7,
   "metadata": {},
   "outputs": [
    {
     "name": "stdout",
     "output_type": "stream",
     "text": [
      "[[0.07407407 0.16666667 0.2962963  0.46296296]\n",
      " [0.07407407 0.16666667 0.2962963  0.46296296]\n",
      " [0.07407407 0.16666667 0.2962963  0.46296296]\n",
      " [0.07407407 0.16666667 0.2962963  0.46296296]\n",
      " [0.07407407 0.16666667 0.2962963  0.46296296]\n",
      " [0.07407407 0.16666667 0.2962963  0.46296296]\n",
      " [0.07407407 0.16666667 0.2962963  0.46296296]\n",
      " [0.07407407 0.16666667 0.2962963  0.46296296]\n",
      " [0.07407407 0.16666667 0.2962963  0.46296296]\n",
      " [0.07407407 0.16666667 0.2962963  0.46296296]\n",
      " [0.07407407 0.16666667 0.2962963  0.46296296]\n",
      " [0.07407407 0.16666667 0.2962963  0.46296296]\n",
      " [0.07407407 0.16666667 0.2962963  0.46296296]\n",
      " [0.07407407 0.16666667 0.2962963  0.46296296]\n",
      " [0.07407407 0.16666667 0.2962963  0.46296296]\n",
      " [0.07407407 0.16666667 0.2962963  0.46296296]\n",
      " [0.07407407 0.16666667 0.2962963  0.46296296]\n",
      " [0.07407407 0.16666667 0.2962963  0.46296296]\n",
      " [0.07407407 0.16666667 0.2962963  0.46296296]\n",
      " [0.07407407 0.16666667 0.2962963  0.46296296]\n",
      " [0.07407407 0.16666667 0.2962963  0.46296296]\n",
      " [0.07407407 0.16666667 0.2962963  0.46296296]\n",
      " [0.07407407 0.16666667 0.2962963  0.46296296]\n",
      " [0.07407407 0.16666667 0.2962963  0.46296296]\n",
      " [0.07407407 0.16666667 0.2962963  0.46296296]\n",
      " [0.07407407 0.16666667 0.2962963  0.46296296]\n",
      " [0.07407407 0.16666667 0.2962963  0.46296296]\n",
      " [0.07407407 0.16666667 0.2962963  0.46296296]\n",
      " [0.07407407 0.16666667 0.2962963  0.46296296]\n",
      " [0.07407407 0.16666667 0.2962963  0.46296296]\n",
      " [0.07407407 0.16666667 0.2962963  0.46296296]]\n"
     ]
    }
   ],
   "source": [
    "# sobol indices\n",
    "S_i = []\n",
    "for i in range(d):\n",
    "    S_i_i = a[0]**2*cov_1[i,i]/np.trace(np.power(a,2)*cov_1)\n",
    "    S_i.append(S_i_i)\n",
    "\n",
    "S_i = np.hstack(S_i)\n",
    "# for plot convinence\n",
    "S_i = np.tile(S_i, (len(alp),1))\n",
    "                       \n",
    "print(S_i)"
   ]
  },
  {
   "cell_type": "code",
   "execution_count": 9,
   "metadata": {},
   "outputs": [],
   "source": [
    "# inverse error function\n",
    "phi_inv = norm.ppf(alp)"
   ]
  },
  {
   "cell_type": "code",
   "execution_count": 11,
   "metadata": {},
   "outputs": [],
   "source": [
    "# q_2: PDF of the out put Y(Eq.30)\n",
    "q_2 = []\n",
    "for a in range(len(alp)):\n",
    "    q_2_a = []\n",
    "    for i in range(d):\n",
    "        q_2_i = cov_1[i,i] + phi_inv[a]**2*(np.sqrt(np.trace(cov_1))-np.sqrt(sum(cov_1[j,j] for j in range(d) if j != i)))**2\n",
    "        q_2_a.append(q_2_i)\n",
    "    q_2.append(q_2_a)\n",
    "    \n",
    "q_2 = np.vstack(q_2).reshape((len(alp),d))"
   ]
  },
  {
   "cell_type": "code",
   "execution_count": 12,
   "metadata": {},
   "outputs": [],
   "source": [
    "# Q_2: quantile based sensitivit measure 2.(Eq.14)\n",
    "Q_2 = []\n",
    "for a in range(len(alp)):\n",
    "    Q_2_a = []\n",
    "    for i in range(d):\n",
    "        Q_2_i = q_2[a,i]/sum(q_2[a])\n",
    "        Q_2_a.append(Q_2_i)\n",
    "    Q_2.append(Q_2_a)\n",
    "\n",
    "Q_2 = np.hstack(Q_2).reshape((len(alp),d))"
   ]
  },
  {
   "cell_type": "code",
   "execution_count": 13,
   "metadata": {},
   "outputs": [
    {
     "data": {
      "text/plain": [
       "[<matplotlib.lines.Line2D at 0x7fb90e99a690>,\n",
       " <matplotlib.lines.Line2D at 0x7fb90e9a6e10>,\n",
       " <matplotlib.lines.Line2D at 0x7fb90e9a6fd0>,\n",
       " <matplotlib.lines.Line2D at 0x7fb90e9b61d0>]"
      ]
     },
     "execution_count": 13,
     "metadata": {},
     "output_type": "execute_result"
    },
    {
     "data": {
      "image/png": "[encoded data removed]",
      "text/plain": [
       "<Figure size 432x288 with 1 Axes>"
      ]
     },
     "metadata": {
      "needs_background": "light"
     },
     "output_type": "display_data"
    }
   ],
   "source": [
    "plt.plot(alp,Q_2[:,0],'rs--',alp,Q_2[:,1],'bs--',alp,Q_2[:,2],'gs--',alp,Q_2[:,3],'cs--')\n",
    "plt.plot(alp,S_i[:,0],'r-',alp,S_i[:,1],'b-',alp,S_i[:,2],'g-',alp,S_i[:,3],'c-')"
   ]
  },
  {
   "cell_type": "markdown",
   "metadata": {},
   "source": [
    "# MCS_quantile function"
   ]
  },
  {
   "cell_type": "code",
   "execution_count": 87,
   "metadata": {},
   "outputs": [],
   "source": [
    "def MCS_quantile(alp,N,miu,sd,dist_type):\n",
    "    q1_alp, q2_alp = _quantile_based_measures(N,M,dim,alp,dist_type)\n",
    "    Q1_alp, Q2_alp = _nomalized_quantile_based_measures(N,M,dim,alp,dist_type)\n",
    "    \n",
    "    return q1_alp, q2_alp, Q1_alp, Q2_alp\n",
    "\n",
    "\n",
    "def _quantile_based_measures(N,M,dim,alp,dist_type):\n",
    "    # shape(1, 4, 1, 64)\n",
    "    delt=np.array([[np.zeros((1,M)) for x in range(dim)] for z in range(1)],dtype=np.float64)\n",
    "    q1_alp=np.zeros((len(alp),dim))\n",
    "    q2_alp=np.zeros((len(alp),dim))\n",
    "    \n",
    "    qy_alp1 = _unconditional_q_Y(N,M,dim,alp,dist_type)\n",
    "    qy_alp2 = _conditional_q_Y(N,M,dim,alp,dist_type)\n",
    "    \n",
    "    for i in range(dim):\n",
    "        for pp in range(len(alp)):\n",
    "            delt[0,i]=qy_alp2[0,i,pp,:] - qy_alp1[pp]  # delt\n",
    "            q1_alp[pp,i]=np.mean(np.absolute(delt[0,i]))  # |delt|\n",
    "            q2_alp[pp,i]=np.mean(delt[0,i]**2)  # (delt)^2\n",
    "            \n",
    "    return q1_alp, q2_alp\n",
    "\n",
    "\n",
    "def _nomalized_quantile_based_measures(N,M,dim,alp,dist_type):\n",
    "    # shape(1, 31)\n",
    "    q1=np.zeros(len(alp))\n",
    "    q2=np.zeros(len(alp))\n",
    "\n",
    "    Q1_alp=np.zeros((len(alp),dim))\n",
    "    Q2_alp=np.zeros((len(alp),dim))\n",
    "    \n",
    "    q1_alp, q2_alp = _quantile_based_measures(N,M,dim,alp,dist_type)\n",
    "    \n",
    "    for pp in range(len(alp)):\n",
    "        q1[pp]=np.sum(q1_alp[pp,:])\n",
    "        q2[pp]=np.sum(q2_alp[pp,:])\n",
    "        for i in range(dim):\n",
    "            Q1_alp[pp,i]=q1_alp[pp,i]/q1[pp]\n",
    "            Q2_alp[pp,i]=q2_alp[pp,i]/q2[pp]\n",
    "    \n",
    "    return Q1_alp, Q2_alp\n",
    "\n",
    "\n",
    "def _unconditional_q_Y(N,M,dim, alp,dist_type):\n",
    "    A,B  = _get_samples(N, M, dim, dist_type)\n",
    "    # values of outputs\n",
    "    Y1 = objfun(A)\n",
    "    # reorder in ascending order\n",
    "    y1 = np.sort(Y1)\n",
    "    \n",
    "    # q_Y(alp)\n",
    "    q_index = (np.floor(alp*N)-1).astype(int)\n",
    "    qy_alp1 = y1[q_index]\n",
    "    \n",
    "    return qy_alp1 \n",
    "\n",
    "\n",
    "def _conditional_q_Y(N,M,dim,alp,dist_type):\n",
    "    A,B  = _get_samples(N, M, dim, dist_type)\n",
    "    \n",
    "    # conditional sample matrix C,with shape(64, 4, 8192, 4)\n",
    "    C = np.array([[np.zeros((N,dim)) for x in range(dim)] for z in range(M)],dtype=np.float64)\n",
    "\n",
    "    for i in range(dim):\n",
    "        for j in range(M):\n",
    "            C[j,i] = A\n",
    "            C[j,i,:,i] = B[j, i]  \n",
    "    # values of conditional outputs\n",
    "    # shape(8192, 4, 8192, 1)\n",
    "    Y2=np.array([[np.zeros((N,1)) for x in range(dim)] for z in range(N)],dtype=np.float64)\n",
    "    y2=np.array([[np.zeros((N,1)) for x in range(dim)] for z in range(N)],dtype=np.float64)\n",
    "    \n",
    "    # shape(1, 4, 31, 64)\n",
    "    qy_alp2=np.array([[np.zeros((len(alp),M)) for x in range(dim)] for z in range(1)],dtype=np.float64)\n",
    "    \n",
    "    for i in range(dim):\n",
    "        for j in range(M):\n",
    "            Y2[j,i] = np.vstack(objfun(C[j,i]))  # values of conditional outputs\n",
    "            Y2[j,i].sort(axis=0)\n",
    "            y2[j,i] = Y2[j,i] # reorder in ascending order\n",
    "            for pp in range(len(alp)):\n",
    "                qy_alp2[0,i,pp,j]=y2[j,i][(np.floor(alp[pp]*N)-1).astype(int)] # conditioanl q_Y(alp)\n",
    "    \n",
    "    return qy_alp2\n",
    "\n",
    "\n",
    "def _get_samples(N, M, dim, dist_type):\n",
    "    \n",
    "    A = np.zeros((N,dim))\n",
    "    B = np.zeros((M,dim))\n",
    "    X01 = cp.generate_samples(order=N, domain=dim, rule=\"S\").T\n",
    "    X02 = cp.generate_samples(order=M, domain=dim, rule=\"S\").T\n",
    "    \n",
    "    if dist_type==\"Normal\":\n",
    "        A = norm.ppf(X01,loc=miu, scale=sd)\n",
    "        B = norm.ppf(X02,loc=miu, scale=sd)\n",
    "    elif dist_type==\"Exponential\":\n",
    "        A = expon.ppf(X01)\n",
    "        B = expon.ppf(X02)\n",
    "    elif dist_type==\"Uniform\":\n",
    "        A = uniform.ppf(X01,loc=-np.pi,scale=2*np.pi)\n",
    "        B = uniform.ppf(X02,loc=-np.pi,scale=2*np.pi)\n",
    "\n",
    "    return A,B"
   ]
  },
  {
   "cell_type": "markdown",
   "metadata": {},
   "source": [
    "# Test 1: Linear function"
   ]
  },
  {
   "cell_type": "code",
   "execution_count": 88,
   "metadata": {},
   "outputs": [],
   "source": [
    "# Total number of sample points\n",
    "N = 2**13 # 8192\n",
    "\n",
    "# range of alpha\n",
    "dalp = (0.98-0.02)/30   # 0.032\n",
    "alp = np.arange(0.02, 0.98+dalp, dalp) \n",
    "\n",
    "# number of conditional samples\n",
    "M = 64\n",
    "\n",
    "# mean for normal distribution\n",
    "miu = np.array([1,3,5,7])\n",
    "\n",
    "# standard deviation for normal distribution\n",
    "sd = np.array([1,1.5,2,2.5])\n",
    "\n",
    "# objective function\n",
    "a = [1,1,1,1]\n",
    "def objfun(x):\n",
    "    result = a[0]*x[:,0]+a[1]*x[:,1]+a[2]*x[:,2]+a[3]*x[:,3]\n",
    "    return result\n",
    "\n",
    "# dimension of inputs\n",
    "dim = np.size(miu) # 4\n",
    "\n",
    "# distribution type\n",
    "dist_type=\"Normal\""
   ]
  },
  {
   "cell_type": "code",
   "execution_count": 89,
   "metadata": {},
   "outputs": [],
   "source": [
    "q1_alp, q2_alp, Q1_alp, Q2_alp=MCS_quantile(alp,N,miu,sd,dist_type)"
   ]
  },
  {
   "cell_type": "code",
   "execution_count": 90,
   "metadata": {},
   "outputs": [
    {
     "data": {
      "text/plain": [
       "[<matplotlib.lines.Line2D at 0x7fb5888ed750>,\n",
       " <matplotlib.lines.Line2D at 0x7fb588901ed0>,\n",
       " <matplotlib.lines.Line2D at 0x7fb6088020d0>,\n",
       " <matplotlib.lines.Line2D at 0x7fb608802290>]"
      ]
     },
     "execution_count": 90,
     "metadata": {},
     "output_type": "execute_result"
    },
    {
     "data": {
      "image/png": "[encoded data removed]",
      "text/plain": [
       "<Figure size 432x288 with 1 Axes>"
      ]
     },
     "metadata": {
      "needs_background": "light"
     },
     "output_type": "display_data"
    }
   ],
   "source": [
    "plt.plot(alp,Q1_alp[:,0],'rs--',alp,Q1_alp[:,1],'bs--',alp,Q1_alp[:,2],'gs--',alp,Q1_alp[:,3],'cs--')\n",
    "\n",
    "plt.plot(alp,Q2_alp[:,0],'r*--',alp,Q2_alp[:,1],'b*--',alp,Q2_alp[:,2],'g*--',alp,Q2_alp[:,3],'c*--')\n",
    "\n",
    "plt.plot(alp,S_i[:,0],'r-',alp,S_i[:,1],'b-',alp,S_i[:,2],'g-',alp,S_i[:,3],'c-')"
   ]
  },
  {
   "cell_type": "markdown",
   "metadata": {},
   "source": [
    "# Test 2: $Y=x_1+x_2+x_3-x_4$\n"
   ]
  },
  {
   "cell_type": "code",
   "execution_count": 91,
   "metadata": {},
   "outputs": [],
   "source": [
    "from scipy.stats import expon\n",
    "\n",
    "# Total number of sample points\n",
    "N = 2**13 # 8192\n",
    "\n",
    "# range of alpha\n",
    "dalp = (0.98-0.02)/30   # 0.032\n",
    "alp = np.arange(0.02, 0.98+dalp, dalp) \n",
    "\n",
    "# number of conditional samples\n",
    "M = 64\n",
    "\n",
    "# objective function\n",
    "a = [1,-1,1,-1]\n",
    "def objfun(x):\n",
    "    result = a[0]*x[:,0]+a[1]*x[:,1]+a[2]*x[:,2]+a[3]*x[:,3]\n",
    "    return result\n",
    "\n",
    "# dimension of inputs\n",
    "dim = np.size(a) # 4\n",
    "\n",
    "# distribution type\n",
    "dist_type=\"Exponential\""
   ]
  },
  {
   "cell_type": "code",
   "execution_count": 93,
   "metadata": {},
   "outputs": [],
   "source": [
    "q1_alp, q2_alp, Q1_alp, Q2_alp=MCS_quantile(alp,N,miu,sd,dist_type)"
   ]
  },
  {
   "cell_type": "code",
   "execution_count": 94,
   "metadata": {},
   "outputs": [
    {
     "data": {
      "text/plain": [
       "[<matplotlib.lines.Line2D at 0x7fb588c78d90>,\n",
       " <matplotlib.lines.Line2D at 0x7fb5889011d0>,\n",
       " <matplotlib.lines.Line2D at 0x7fb588c81210>,\n",
       " <matplotlib.lines.Line2D at 0x7fb588c81190>]"
      ]
     },
     "execution_count": 94,
     "metadata": {},
     "output_type": "execute_result"
    },
    {
     "data": {
      "image/png": "[encoded data removed]",
      "text/plain": [
       "<Figure size 432x288 with 1 Axes>"
      ]
     },
     "metadata": {
      "needs_background": "light"
     },
     "output_type": "display_data"
    }
   ],
   "source": [
    "plt.plot(alp,Q1_alp[:,0],'rs--',alp,Q1_alp[:,1],'bs--',alp,Q1_alp[:,2],'gs--',alp,Q1_alp[:,3],'cs--')\n",
    "\n",
    "plt.plot(alp,Q2_alp[:,0],'r*--',alp,Q2_alp[:,1],'b*--',alp,Q2_alp[:,2],'g*--',alp,Q2_alp[:,3],'c*--')\n",
    "\n",
    "# plt.plot(alp,S_i[:,0],'r-',alp,S_i[:,1],'b-',alp,S_i[:,2],'g-',alp,S_i[:,3],'c-')"
   ]
  },
  {
   "cell_type": "markdown",
   "metadata": {},
   "source": [
    "# Test 3: $Y=sin(x_1)+7(sin x_2)^2+0.1x_3^4sin(x_1)$"
   ]
  },
  {
   "cell_type": "code",
   "execution_count": 97,
   "metadata": {},
   "outputs": [],
   "source": [
    "from scipy.stats import uniform\n",
    "\n",
    "# Total number of sample points\n",
    "N = 2**13 # 8192\n",
    "\n",
    "# range of alpha\n",
    "dalp = (0.98-0.02)/30   # 0.032\n",
    "alp = np.arange(0.02, 0.98+dalp, dalp) \n",
    "\n",
    "# number of conditional samples\n",
    "M = 64\n",
    "\n",
    "# objective function\n",
    "def objfun(x):\n",
    "\n",
    "    result = np.sin(x[:,0]) + 7 * np.sin(x[:,1])**2 + 0.1 * x[:,2]**4*np.sin(x[:,0])\n",
    "    \n",
    "    return result\n",
    "\n",
    "\n",
    "# dimension of inputs\n",
    "dim = 3 \n",
    "\n",
    "# distribution type\n",
    "dist_type=\"Uniform\"\n",
    "\n",
    "## upper，lowerbound？"
   ]
  },
  {
   "cell_type": "code",
   "execution_count": 98,
   "metadata": {},
   "outputs": [],
   "source": [
    "q1_alp, q2_alp, Q1_alp, Q2_alp=MCS_quantile(alp,N,miu,sd,dist_type)"
   ]
  },
  {
   "cell_type": "code",
   "execution_count": 100,
   "metadata": {},
   "outputs": [
    {
     "data": {
      "text/plain": [
       "[<matplotlib.lines.Line2D at 0x7fb60cc6bfd0>,\n",
       " <matplotlib.lines.Line2D at 0x7fb60cc3b2d0>,\n",
       " <matplotlib.lines.Line2D at 0x7fb60cc3b250>]"
      ]
     },
     "execution_count": 100,
     "metadata": {},
     "output_type": "execute_result"
    },
    {
     "data": {
      "image/png": "[encoded data removed]",
      "text/plain": [
       "<Figure size 432x288 with 1 Axes>"
      ]
     },
     "metadata": {
      "needs_background": "light"
     },
     "output_type": "display_data"
    }
   ],
   "source": [
    "plt.plot(alp,Q1_alp[:,0],'rs--',alp,Q1_alp[:,1],'bs--',alp,Q1_alp[:,2],'gs--')\n",
    "\n",
    "plt.plot(alp,Q2_alp[:,0],'r*--',alp,Q2_alp[:,1],'b*--',alp,Q2_alp[:,2],'g*--')"
   ]
  },
  {
   "cell_type": "markdown",
   "metadata": {},
   "source": [
    "# Test 4: $Y=x_1 x_2+x_3 x_4$"
   ]
  },
  {
   "cell_type": "code",
   "execution_count": null,
   "metadata": {},
   "outputs": [],
   "source": [
    "# Total number of sample points\n",
    "N = 2**13 # 8192\n",
    "\n",
    "# range of alpha\n",
    "dalp = (0.98-0.02)/30   # 0.032\n",
    "alp = np.arange(0.02, 0.98+dalp, dalp) \n",
    "\n",
    "# number of conditional samples\n",
    "M = 64\n",
    "\n",
    "miu = np.array([0, 0, 250, 400])\n",
    "\n",
    "cov = np.array(\n",
    "    [\n",
    "        [16, 2.4, 0, 0],\n",
    "        [2.4, 4, 0, 0],\n",
    "        [0, 0, 40000, -18000],\n",
    "        [0, 0, -18000, 90000],\n",
    "    ],\n",
    ")\n",
    "\n",
    "\n",
    "# objective function\n",
    "def objfun(x):\n",
    "\n",
    "    result = x[:,0]*x[:,1]+x[:,2]*x[:,3]\n",
    "    \n",
    "    return result\n",
    "\n",
    "\n",
    "# dimension of inputs\n",
    "dim = np.size(miu)\n",
    "\n",
    "# distribution type\n",
    "dist_type=\"Uniform\""
   ]
  }
 ],
 "metadata": {
  "kernelspec": {
   "display_name": "Python 3",
   "language": "python",
   "name": "python3"
  },
  "language_info": {
   "codemirror_mode": {
    "name": "ipython",
    "version": 3
   },
   "file_extension": ".py",
   "mimetype": "text/x-python",
   "name": "python",
   "nbconvert_exporter": "python",
   "pygments_lexer": "ipython3",
   "version": "3.7.4"
  }
 },
 "nbformat": 4,
 "nbformat_minor": 2
}
