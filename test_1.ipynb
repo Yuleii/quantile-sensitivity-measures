{
 "cells": [
  {
   "cell_type": "markdown",
   "metadata": {},
   "source": [
    "## 1 benchmarks for test 1\n"
   ]
  },
  {
   "cell_type": "code",
   "execution_count": 55,
   "metadata": {},
   "outputs": [],
   "source": [
    "# Import Python Packages\n",
    "import numpy as np\n",
    "from scipy.stats import norm\n",
    "import matplotlib.pyplot as plt"
   ]
  },
  {
   "cell_type": "code",
   "execution_count": 46,
   "metadata": {},
   "outputs": [],
   "source": [
    "# given mean and covariance\n",
    "d = 4\n",
    "mean_1 = np.array([1, 3, 5, 7])\n",
    "cov_1 = np.array(\n",
    "    [\n",
    "        [1, 0, 0, 0],\n",
    "        [0, 2.25, 0, 0],\n",
    "        [0, 0, 4, 0],\n",
    "        [0, 0, 0, 6.25],\n",
    "    ],\n",
    ")\n",
    "\n",
    "\n",
    "dalp = (0.98-0.02)/30   # 0.032\n",
    "alp = np.arange(0.02, 0.98+dalp, dalp) "
   ]
  },
  {
   "cell_type": "code",
   "execution_count": 47,
   "metadata": {},
   "outputs": [
    {
     "data": {
      "text/plain": [
       "array([[1.  , 0.  , 0.  , 0.  ],\n",
       "       [0.  , 2.25, 0.  , 0.  ],\n",
       "       [0.  , 0.  , 4.  , 0.  ],\n",
       "       [0.  , 0.  , 0.  , 6.25]])"
      ]
     },
     "execution_count": 47,
     "metadata": {},
     "output_type": "execute_result"
    }
   ],
   "source": [
    "# model function\n",
    "# a = np.array([1,1,1,1])\n",
    "\n",
    "# def objfun(x):\n",
    "#     result = a[0]*x[:,0]+a[1]*x[:,1]+a[2]*x[:,2]+a[3]*x[:,3]\n",
    "#     return result\n",
    "np.power(a,2)*cov_1"
   ]
  },
  {
   "cell_type": "code",
   "execution_count": 48,
   "metadata": {},
   "outputs": [
    {
     "name": "stdout",
     "output_type": "stream",
     "text": [
      "[[0.07407407 0.16666667 0.2962963  0.46296296]\n",
      " [0.07407407 0.16666667 0.2962963  0.46296296]\n",
      " [0.07407407 0.16666667 0.2962963  0.46296296]\n",
      " [0.07407407 0.16666667 0.2962963  0.46296296]\n",
      " [0.07407407 0.16666667 0.2962963  0.46296296]\n",
      " [0.07407407 0.16666667 0.2962963  0.46296296]\n",
      " [0.07407407 0.16666667 0.2962963  0.46296296]\n",
      " [0.07407407 0.16666667 0.2962963  0.46296296]\n",
      " [0.07407407 0.16666667 0.2962963  0.46296296]\n",
      " [0.07407407 0.16666667 0.2962963  0.46296296]\n",
      " [0.07407407 0.16666667 0.2962963  0.46296296]\n",
      " [0.07407407 0.16666667 0.2962963  0.46296296]\n",
      " [0.07407407 0.16666667 0.2962963  0.46296296]\n",
      " [0.07407407 0.16666667 0.2962963  0.46296296]\n",
      " [0.07407407 0.16666667 0.2962963  0.46296296]\n",
      " [0.07407407 0.16666667 0.2962963  0.46296296]\n",
      " [0.07407407 0.16666667 0.2962963  0.46296296]\n",
      " [0.07407407 0.16666667 0.2962963  0.46296296]\n",
      " [0.07407407 0.16666667 0.2962963  0.46296296]\n",
      " [0.07407407 0.16666667 0.2962963  0.46296296]\n",
      " [0.07407407 0.16666667 0.2962963  0.46296296]\n",
      " [0.07407407 0.16666667 0.2962963  0.46296296]\n",
      " [0.07407407 0.16666667 0.2962963  0.46296296]\n",
      " [0.07407407 0.16666667 0.2962963  0.46296296]\n",
      " [0.07407407 0.16666667 0.2962963  0.46296296]\n",
      " [0.07407407 0.16666667 0.2962963  0.46296296]\n",
      " [0.07407407 0.16666667 0.2962963  0.46296296]\n",
      " [0.07407407 0.16666667 0.2962963  0.46296296]\n",
      " [0.07407407 0.16666667 0.2962963  0.46296296]\n",
      " [0.07407407 0.16666667 0.2962963  0.46296296]\n",
      " [0.07407407 0.16666667 0.2962963  0.46296296]]\n"
     ]
    }
   ],
   "source": [
    "# sobol indices\n",
    "S_i = []\n",
    "for i in range(d):\n",
    "    S_i_i = a[0]**2*cov_1[i,i]/np.trace(np.power(a,2)*cov_1)\n",
    "    S_i.append(S_i_i)\n",
    "\n",
    "S_i = np.hstack(S_i)\n",
    "# for plot convinence\n",
    "S_i = np.tile(S_i, (len(alp),1))\n",
    "                       \n",
    "print(S_i)"
   ]
  },
  {
   "cell_type": "code",
   "execution_count": 58,
   "metadata": {},
   "outputs": [],
   "source": [
    "# inverse error function\n",
    "phi_inv = norm.ppf(alp)"
   ]
  },
  {
   "cell_type": "code",
   "execution_count": 59,
   "metadata": {},
   "outputs": [
    {
     "name": "stdout",
     "output_type": "stream",
     "text": [
      "[[ 1.08114318  2.68226953  5.4783546  10.31452679]\n",
      " [ 1.05084778  2.52087855  4.92640012  8.79700604]\n",
      " [ 1.03656545  2.44479306  4.66618903  8.08159246]\n",
      " [ 1.02748243  2.39640559  4.50070468  7.62661666]\n",
      " [ 1.02101025  2.36192673  4.38278756  7.30242023]\n",
      " [ 1.0161193   2.33587142  4.29367881  7.05742834]\n",
      " [ 1.01229689  2.31550854  4.2240381   6.86596106]\n",
      " [ 1.00925213  2.29928838  4.16856543  6.71344681]\n",
      " [ 1.00680533  2.28625367  4.12398695  6.59088457]\n",
      " [ 1.0048389   2.275778    4.08816034  6.49238438]\n",
      " [ 1.00327286  2.26743533  4.05962854  6.41394024]\n",
      " [ 1.00205157  2.2609292   4.03737768  6.35276465]\n",
      " [ 1.00113604  2.25605198  4.02069767  6.3069053 ]\n",
      " [ 1.0004994   2.25266043  4.00909861  6.27501535]\n",
      " [ 1.00012404  2.2506608   4.00225994  6.25621338]\n",
      " [ 1.          2.25        4.          6.25      ]\n",
      " [ 1.00012404  2.2506608   4.00225994  6.25621338]\n",
      " [ 1.0004994   2.25266043  4.00909861  6.27501535]\n",
      " [ 1.00113604  2.25605198  4.02069767  6.3069053 ]\n",
      " [ 1.00205157  2.2609292   4.03737768  6.35276465]\n",
      " [ 1.00327286  2.26743533  4.05962854  6.41394024]\n",
      " [ 1.0048389   2.275778    4.08816034  6.49238438]\n",
      " [ 1.00680533  2.28625367  4.12398695  6.59088457]\n",
      " [ 1.00925213  2.29928838  4.16856543  6.71344681]\n",
      " [ 1.01229689  2.31550854  4.2240381   6.86596106]\n",
      " [ 1.0161193   2.33587142  4.29367881  7.05742834]\n",
      " [ 1.02101025  2.36192673  4.38278756  7.30242023]\n",
      " [ 1.02748243  2.39640559  4.50070468  7.62661666]\n",
      " [ 1.03656545  2.44479306  4.66618903  8.08159246]\n",
      " [ 1.05084778  2.52087855  4.92640012  8.79700604]\n",
      " [ 1.08114318  2.68226953  5.4783546  10.31452679]]\n"
     ]
    }
   ],
   "source": [
    "# q_2: PDF of the out put Y(Eq.30)\n",
    "q_2 = []\n",
    "for a in range(len(alp)):\n",
    "    q_2_a = []\n",
    "    for i in range(d):\n",
    "        q_2_i = cov_1[i,i] + phi_inv[a]**2*(np.sqrt(np.trace(cov_1))-np.sqrt(sum(cov_1[j,j] for j in range(d) if j != i)))**2\n",
    "        q_2_a.append(q_2_i)\n",
    "    q_2.append(q_2_a)\n",
    "    \n",
    "q_2 = np.vstack(q_2).reshape((len(alp),d))\n",
    "print(q_2)"
   ]
  },
  {
   "cell_type": "code",
   "execution_count": 60,
   "metadata": {},
   "outputs": [
    {
     "name": "stdout",
     "output_type": "stream",
     "text": [
      "[[0.05528364 0.13715633 0.28013255 0.52742747]\n",
      " [0.06075974 0.14575653 0.28484316 0.50864057]\n",
      " [0.06387063 0.15064218 0.28751918 0.497968  ]\n",
      " [0.0660709  0.1540977  0.28941188 0.49041952]\n",
      " [0.06775952 0.15674967 0.29086444 0.48462637]\n",
      " [0.0691092  0.15886934 0.29202545 0.47999601]\n",
      " [0.07021158 0.16060063 0.29297374 0.47621405]\n",
      " [0.07112141 0.16202951 0.29375638 0.47309269]\n",
      " [0.07187395 0.16321138 0.29440373 0.47051094]\n",
      " [0.07249312 0.16418379 0.29493634 0.46838675]\n",
      " [0.07299568 0.16497305 0.29536865 0.46666262]\n",
      " [0.07339358 0.16559795 0.29571093 0.46529754]\n",
      " [0.07369536 0.16607189 0.29597052 0.46426223]\n",
      " [0.07390701 0.16640429 0.29615258 0.46353612]\n",
      " [0.07403249 0.16660136 0.29626053 0.46310562]\n",
      " [0.07407407 0.16666667 0.2962963  0.46296296]\n",
      " [0.07403249 0.16660136 0.29626053 0.46310562]\n",
      " [0.07390701 0.16640429 0.29615258 0.46353612]\n",
      " [0.07369536 0.16607189 0.29597052 0.46426223]\n",
      " [0.07339358 0.16559795 0.29571093 0.46529754]\n",
      " [0.07299568 0.16497305 0.29536865 0.46666262]\n",
      " [0.07249312 0.16418379 0.29493634 0.46838675]\n",
      " [0.07187395 0.16321138 0.29440373 0.47051094]\n",
      " [0.07112141 0.16202951 0.29375638 0.47309269]\n",
      " [0.07021158 0.16060063 0.29297374 0.47621405]\n",
      " [0.0691092  0.15886934 0.29202545 0.47999601]\n",
      " [0.06775952 0.15674967 0.29086444 0.48462637]\n",
      " [0.0660709  0.1540977  0.28941188 0.49041952]\n",
      " [0.06387063 0.15064218 0.28751918 0.497968  ]\n",
      " [0.06075974 0.14575653 0.28484316 0.50864057]\n",
      " [0.05528364 0.13715633 0.28013255 0.52742747]]\n"
     ]
    }
   ],
   "source": [
    "# Q_2: quantile based sensitivit measure 2.(Eq.14)\n",
    "Q_2 = []\n",
    "for a in range(len(alp)):\n",
    "    Q_2_a = []\n",
    "    for i in range(d):\n",
    "        Q_2_i = q_2[a,i]/sum(q_2[a])\n",
    "        Q_2_a.append(Q_2_i)\n",
    "    Q_2.append(Q_2_a)\n",
    "\n",
    "Q_2 = np.hstack(Q_2).reshape((len(alp),d))\n",
    "print(Q_2)"
   ]
  },
  {
   "cell_type": "code",
   "execution_count": 53,
   "metadata": {},
   "outputs": [],
   "source": [
    "# ax = plt.subplot(111)\n",
    "\n",
    "# # plot sobol indice\n",
    "# ax.plot(alp,Q_2, marker='o', markersize=4, linewidth=1)\n",
    "\n",
    "# # plot Q_2\n",
    "# ax.plot(alp,S_i, linewidth=1)"
   ]
  },
  {
   "cell_type": "code",
   "execution_count": 54,
   "metadata": {},
   "outputs": [
    {
     "data": {
      "text/plain": [
       "[<matplotlib.lines.Line2D at 0x7f94d9c2a310>,\n",
       " <matplotlib.lines.Line2D at 0x7f94d9db7fd0>,\n",
       " <matplotlib.lines.Line2D at 0x7f94d9dbe1d0>,\n",
       " <matplotlib.lines.Line2D at 0x7f94d9dbe390>]"
      ]
     },
     "execution_count": 54,
     "metadata": {},
     "output_type": "execute_result"
    },
    {
     "data": {
      "image/png": "[encoded data removed]",
      "text/plain": [
       "<Figure size 432x288 with 1 Axes>"
      ]
     },
     "metadata": {
      "needs_background": "light"
     },
     "output_type": "display_data"
    }
   ],
   "source": [
    "plt.plot(alp,Q_2[:,0],'rs--',alp,Q_2[:,1],'bs--',alp,Q_2[:,2],'gs--',alp,Q_2[:,3],'cs--')\n",
    "plt.plot(alp,S_i[:,0],'r-',alp,S_i[:,1],'b-',alp,S_i[:,2],'g-',alp,S_i[:,3],'c-')\n",
    "# plt.plot(alp,Q2_alp[:,0],'r*--',alp,Q2_alp[:,1],'b*--',alp,Q2_alp[:,2],'g*--',alp,Q2_alp[:,3],'c*--')"
   ]
  },
  {
   "cell_type": "markdown",
   "metadata": {},
   "source": [
    "## 2 Monte Carlo estimator"
   ]
  },
  {
   "cell_type": "markdown",
   "metadata": {},
   "source": [
    "### 2.1 Generate samples for x"
   ]
  },
  {
   "cell_type": "code",
   "execution_count": 10,
   "metadata": {},
   "outputs": [],
   "source": [
    "# The number of samples\n",
    "N = 100\n",
    "\n",
    "# Generate sample for x given mean and covariance\n",
    "x_j = np.random.multivariate_normal(mean_1,cov_1,N) # shape:(N, d)\n",
    "x_j = np.sort(x_j) # shape:(100, 4)"
   ]
  },
  {
   "cell_type": "code",
   "execution_count": null,
   "metadata": {},
   "outputs": [],
   "source": [
    "# conditional sample x\n",
    "\n",
    "\n"
   ]
  },
  {
   "cell_type": "markdown",
   "metadata": {},
   "source": [
    "### 2.2 Get output Y by using function and sample x"
   ]
  },
  {
   "cell_type": "code",
   "execution_count": 11,
   "metadata": {},
   "outputs": [
    {
     "data": {
      "text/plain": [
       "array([13.57545456, 19.16214128, 12.27455049, 11.43723547, 22.52408125,\n",
       "       11.88976868, 13.00883021, 11.61441518, 16.04170477, 18.60703035,\n",
       "       14.30938418, 22.15244934, 21.70068667, 15.32307362, 19.52127744,\n",
       "       14.22148597, 13.73370987, 17.32507777, 13.500002  , 16.86956225,\n",
       "       18.73210765, 18.21416933,  9.36664679, 19.67864262, 20.807478  ,\n",
       "       15.34495738, 10.12314779, 16.09969944, 14.5720227 ,  8.74398883,\n",
       "       11.13603114, 15.59491944, 15.31134833, 19.38420811, 13.46023832,\n",
       "       21.10108417, 19.49899722, 15.40162988, 14.72747682, 16.014937  ,\n",
       "       17.79097715, 16.87668179, 16.1511971 , 12.30138617, 15.12321696,\n",
       "       17.22335502, 14.77094073, 20.54962223, 14.9811047 , 19.19480445,\n",
       "       17.71918481, 10.99454439, 15.00521094, 14.49361295, 18.40770628,\n",
       "        8.48103583, 17.77697616, 20.83629834, 18.39328509, 16.16641277,\n",
       "       10.39868723, 21.79212286, 17.13159826, 18.4527688 , 10.48402051,\n",
       "       20.16864243, 13.51541698, 17.39218502, 13.50613133, 13.46359528,\n",
       "       19.29727049, 20.34564148, 12.95660728, 16.03595715,  9.27094303,\n",
       "       13.64680359, 16.9480707 , 15.32837914, 18.19752032, 16.55004549,\n",
       "       16.69105183, 15.05516105, 15.90463049, 14.83061623, 20.15146653,\n",
       "       21.66110499, 23.72898072, 19.43469653,  9.65977191, 16.19778374,\n",
       "       14.9381364 , 21.01429538, 15.43523188, 16.50522243, 14.15877439,\n",
       "       15.66045128, 15.66630065, 14.62203722, 12.34161633, 18.20704975])"
      ]
     },
     "execution_count": 11,
     "metadata": {},
     "output_type": "execute_result"
    }
   ],
   "source": [
    "Y_j=func1(x_j)\n",
    "Y_j"
   ]
  },
  {
   "cell_type": "markdown",
   "metadata": {},
   "source": [
    "### 2.3 CDF as a function of y"
   ]
  },
  {
   "cell_type": "markdown",
   "metadata": {},
   "source": [
    "#### Way 1: Define a function ecdf"
   ]
  },
  {
   "cell_type": "code",
   "execution_count": 14,
   "metadata": {},
   "outputs": [],
   "source": [
    "def ecdf(data):\n",
    "    \"\"\" Compute ECDF \"\"\"\n",
    "    x = np.sort(data)\n",
    "    n = x.size\n",
    "    y = np.arange(1, n+1) / n\n",
    "    return(x,y)\n",
    "\n",
    "x, y = ecdf(Y_j)"
   ]
  },
  {
   "cell_type": "code",
   "execution_count": 15,
   "metadata": {},
   "outputs": [
    {
     "data": {
      "text/plain": [
       "<matplotlib.collections.PathCollection at 0x7fb185cd6550>"
      ]
     },
     "execution_count": 15,
     "metadata": {},
     "output_type": "execute_result"
    },
    {
     "data": {
      "image/png": "[encoded data removed]",
      "text/plain": [
       "<Figure size 432x288 with 1 Axes>"
      ]
     },
     "metadata": {
      "needs_background": "light"
     },
     "output_type": "display_data"
    }
   ],
   "source": [
    "ecdf(Y_j)\n",
    "plt.scatter(x=x, y=y)"
   ]
  },
  {
   "cell_type": "markdown",
   "metadata": {},
   "source": [
    "#### Way 2: Use ECDF function from statsmodels package."
   ]
  },
  {
   "cell_type": "code",
   "execution_count": 16,
   "metadata": {},
   "outputs": [],
   "source": [
    "from statsmodels.distributions.empirical_distribution import ECDF\n",
    "ecdf = ECDF(Y_j)"
   ]
  },
  {
   "cell_type": "code",
   "execution_count": 17,
   "metadata": {},
   "outputs": [
    {
     "data": {
      "text/plain": [
       "0.86"
      ]
     },
     "execution_count": 17,
     "metadata": {},
     "output_type": "execute_result"
    }
   ],
   "source": [
    "ecdf(20)"
   ]
  },
  {
   "cell_type": "code",
   "execution_count": 18,
   "metadata": {},
   "outputs": [
    {
     "data": {
      "text/plain": [
       "[<matplotlib.lines.Line2D at 0x7fb185d26350>]"
      ]
     },
     "execution_count": 18,
     "metadata": {},
     "output_type": "execute_result"
    },
    {
     "data": {
      "image/png": "[encoded data removed]",
      "text/plain": [
       "<Figure size 432x288 with 1 Axes>"
      ]
     },
     "metadata": {
      "needs_background": "light"
     },
     "output_type": "display_data"
    }
   ],
   "source": [
    "plt.plot(ecdf.x, ecdf.y)"
   ]
  },
  {
   "cell_type": "markdown",
   "metadata": {},
   "source": [
    "### 2.4 Inverse CDF"
   ]
  },
  {
   "cell_type": "code",
   "execution_count": 20,
   "metadata": {},
   "outputs": [
    {
     "data": {
      "image/png": "[encoded data removed]",
      "text/plain": [
       "<Figure size 432x288 with 1 Axes>"
      ]
     },
     "metadata": {
      "needs_background": "light"
     },
     "output_type": "display_data"
    },
    {
     "name": "stdout",
     "output_type": "stream",
     "text": [
      "97.5 percentile: 21.972286096654447\n"
     ]
    }
   ],
   "source": [
    "from scipy.interpolate import interp1d\n",
    "\n",
    "slope_changes = sorted(set(Y_j))\n",
    "\n",
    "Y_edf_values_at_slope_changes = [ ecdf(item) for item in slope_changes]\n",
    "inverted_edf = interp1d(Y_edf_values_at_slope_changes, slope_changes)\n",
    "\n",
    "x = np.linspace(0.1, 1)\n",
    "y = inverted_edf(x)\n",
    "plt.plot(x, y)\n",
    "plt.show()\n",
    "\n",
    "print ('97.5 percentile:', inverted_edf(0.975))"
   ]
  },
  {
   "cell_type": "markdown",
   "metadata": {},
   "source": [
    "### 2.5 Get measures"
   ]
  },
  {
   "cell_type": "code",
   "execution_count": null,
   "metadata": {},
   "outputs": [],
   "source": []
  }
 ],
 "metadata": {
  "kernelspec": {
   "display_name": "Python 3",
   "language": "python",
   "name": "python3"
  },
  "language_info": {
   "codemirror_mode": {
    "name": "ipython",
    "version": 3
   },
   "file_extension": ".py",
   "mimetype": "text/x-python",
   "name": "python",
   "nbconvert_exporter": "python",
   "pygments_lexer": "ipython3",
   "version": "3.7.4"
  }
 },
 "nbformat": 4,
 "nbformat_minor": 4
}
