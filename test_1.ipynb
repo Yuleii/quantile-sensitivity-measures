{
 "cells": [
  {
   "cell_type": "markdown",
   "metadata": {},
   "source": [
    "## 1 benchmarks for numerical estimates"
   ]
  },
  {
   "cell_type": "code",
   "execution_count": 2,
   "metadata": {},
   "outputs": [],
   "source": [
    "# Import Python Packages\n",
    "import numpy as np\n",
    "import math \n",
    "from scipy.stats import norm\n",
    "import matplotlib.pyplot as plt\n",
    "import seaborn as sns"
   ]
  },
  {
   "cell_type": "code",
   "execution_count": 3,
   "metadata": {},
   "outputs": [],
   "source": [
    "# given mean and covariance\n",
    "d = 4\n",
    "mean_1 = np.array([1, 3, 5, 7])\n",
    "cov_1 = np.array(\n",
    "    [\n",
    "        [1, 0, 0, 0],\n",
    "        [0, 2.25, 0, 0],\n",
    "        [0, 0, 4, 0],\n",
    "        [0, 0, 0, 6.25],\n",
    "    ],\n",
    ")\n",
    "\n",
    "# range of alpha\n",
    "a_range=np.vstack(np.linspace(0,1,20,endpoint=False)[1:])"
   ]
  },
  {
   "cell_type": "code",
   "execution_count": 4,
   "metadata": {},
   "outputs": [],
   "source": [
    "# model function\n",
    "def func1(args):\n",
    "    result = np.sum(args, axis=1)\n",
    "    return result"
   ]
  },
  {
   "cell_type": "code",
   "execution_count": 5,
   "metadata": {},
   "outputs": [
    {
     "name": "stdout",
     "output_type": "stream",
     "text": [
      "[[0.07407407 0.16666667 0.2962963  0.46296296]\n",
      " [0.07407407 0.16666667 0.2962963  0.46296296]\n",
      " [0.07407407 0.16666667 0.2962963  0.46296296]\n",
      " [0.07407407 0.16666667 0.2962963  0.46296296]\n",
      " [0.07407407 0.16666667 0.2962963  0.46296296]\n",
      " [0.07407407 0.16666667 0.2962963  0.46296296]\n",
      " [0.07407407 0.16666667 0.2962963  0.46296296]\n",
      " [0.07407407 0.16666667 0.2962963  0.46296296]\n",
      " [0.07407407 0.16666667 0.2962963  0.46296296]\n",
      " [0.07407407 0.16666667 0.2962963  0.46296296]\n",
      " [0.07407407 0.16666667 0.2962963  0.46296296]\n",
      " [0.07407407 0.16666667 0.2962963  0.46296296]\n",
      " [0.07407407 0.16666667 0.2962963  0.46296296]\n",
      " [0.07407407 0.16666667 0.2962963  0.46296296]\n",
      " [0.07407407 0.16666667 0.2962963  0.46296296]\n",
      " [0.07407407 0.16666667 0.2962963  0.46296296]\n",
      " [0.07407407 0.16666667 0.2962963  0.46296296]\n",
      " [0.07407407 0.16666667 0.2962963  0.46296296]\n",
      " [0.07407407 0.16666667 0.2962963  0.46296296]]\n"
     ]
    }
   ],
   "source": [
    "# sobol indices\n",
    "S_i = []\n",
    "for i in range(d):\n",
    "    S_i_i = cov_1[i,i]/np.trace(cov_1)\n",
    "    S_i.append(S_i_i)\n",
    "\n",
    "S_i = np.hstack(S_i)\n",
    "S_i = np.tile(S_i, (len(a_range),1))\n",
    "                       \n",
    "print(S_i)"
   ]
  },
  {
   "cell_type": "code",
   "execution_count": 6,
   "metadata": {},
   "outputs": [],
   "source": [
    "# inverse error function\n",
    "def inv_error(a):\n",
    "    phi_inv = norm.ppf(a)\n",
    "    return phi_inv\n",
    "\n",
    "\n",
    "phi_inv = inv_error(a_range)"
   ]
  },
  {
   "cell_type": "code",
   "execution_count": 221,
   "metadata": {},
   "outputs": [
    {
     "name": "stdout",
     "output_type": "stream",
     "text": [
      "[[1.05204894 2.52727738 4.94828404 8.85717277]\n",
      " [1.03159581 2.4183186  4.5756468  7.83265943]\n",
      " [1.02066523 2.3600887  4.37650151 7.28513761]\n",
      " [1.0136267  2.32259276 4.24826603 6.93257231]\n",
      " [1.00875202 2.29662412 4.15945371 6.68839542]\n",
      " [1.00529034 2.27818293 4.09638515 6.51499734]\n",
      " [1.00285628 2.26521613 4.0520389  6.39307358]\n",
      " [1.00123478 2.25657797 4.02249654 6.31185107]\n",
      " [1.00030378 2.25161832 4.00553461 6.26521664]\n",
      " [1.         2.25       4.         6.25      ]\n",
      " [1.00030378 2.25161832 4.00553461 6.26521664]\n",
      " [1.00123478 2.25657797 4.02249654 6.31185107]\n",
      " [1.00285628 2.26521613 4.0520389  6.39307358]\n",
      " [1.00529034 2.27818293 4.09638515 6.51499734]\n",
      " [1.00875202 2.29662412 4.15945371 6.68839542]\n",
      " [1.0136267  2.32259276 4.24826603 6.93257231]\n",
      " [1.02066523 2.3600887  4.37650151 7.28513761]\n",
      " [1.03159581 2.4183186  4.5756468  7.83265943]\n",
      " [1.05204894 2.52727738 4.94828404 8.85717277]]\n"
     ]
    }
   ],
   "source": [
    "# q_2: PDF of the out put Y(Eq.30)\n",
    "q_2 = []\n",
    "for a in range(len(a_range)):\n",
    "    q_2_a = []\n",
    "    for i in range(d):\n",
    "        q_2_i = cov_1[i,i] + phi_inv[a]**2*(math.sqrt(np.trace(cov_1))-math.sqrt(sum(cov_1[j,j] for j in range(d) if j != i)))**2\n",
    "        q_2_a.append(q_2_i)\n",
    "    q_2.append(q_2_a)\n",
    "    \n",
    "q_2 = np.vstack(q_2).reshape((len(a_range),d))\n",
    "print(q_2)"
   ]
  },
  {
   "cell_type": "code",
   "execution_count": 222,
   "metadata": {},
   "outputs": [
    {
     "name": "stdout",
     "output_type": "stream",
     "text": [
      "[[0.06051551 0.14537296 0.28463306 0.50947847]\n",
      " [0.06505117 0.15249621 0.28853469 0.49391792]\n",
      " [0.06785258 0.15689583 0.2909445  0.48430709]\n",
      " [0.06982315 0.1599906  0.2926396  0.47754665]\n",
      " [0.07127365 0.1622686  0.29388734 0.47257041]\n",
      " [0.07234982 0.16395873 0.29481307 0.46887837]\n",
      " [0.07313081 0.16518527 0.29548489 0.46619904]\n",
      " [0.07366267 0.16602055 0.2959424  0.46437438]\n",
      " [0.07397234 0.16650689 0.29620878 0.46331199]\n",
      " [0.07407407 0.16666667 0.2962963  0.46296296]\n",
      " [0.07397234 0.16650689 0.29620878 0.46331199]\n",
      " [0.07366267 0.16602055 0.2959424  0.46437438]\n",
      " [0.07313081 0.16518527 0.29548489 0.46619904]\n",
      " [0.07234982 0.16395873 0.29481307 0.46887837]\n",
      " [0.07127365 0.1622686  0.29388734 0.47257041]\n",
      " [0.06982315 0.1599906  0.2926396  0.47754665]\n",
      " [0.06785258 0.15689583 0.2909445  0.48430709]\n",
      " [0.06505117 0.15249621 0.28853469 0.49391792]\n",
      " [0.06051551 0.14537296 0.28463306 0.50947847]]\n"
     ]
    }
   ],
   "source": [
    "# Q_2: quantile based sensitivit measure 2.(Eq.14)\n",
    "Q_2 = []\n",
    "for a in range(len(a_range)):\n",
    "    Q_2_a = []\n",
    "    for i in range(d):\n",
    "        Q_2_i = q_2[a,i]/sum(q_2[a])\n",
    "        Q_2_a.append(Q_2_i)\n",
    "    Q_2.append(Q_2_a)\n",
    "\n",
    "Q_2 = np.hstack(Q_2).reshape((len(a_range),d))\n",
    "print(Q_2)"
   ]
  },
  {
   "cell_type": "code",
   "execution_count": 294,
   "metadata": {},
   "outputs": [
    {
     "data": {
      "text/plain": [
       "[<matplotlib.lines.Line2D at 0x7fe6ccf12390>,\n",
       " <matplotlib.lines.Line2D at 0x7fe6cd9eb390>,\n",
       " <matplotlib.lines.Line2D at 0x7fe6cd9eb550>,\n",
       " <matplotlib.lines.Line2D at 0x7fe6cd9eb710>]"
      ]
     },
     "execution_count": 294,
     "metadata": {},
     "output_type": "execute_result"
    },
    {
     "data": {
      "image/png": "[encoded data removed]",
      "text/plain": [
       "<Figure size 432x288 with 1 Axes>"
      ]
     },
     "metadata": {
      "needs_background": "light"
     },
     "output_type": "display_data"
    }
   ],
   "source": [
    "ax = plt.subplot(111)\n",
    "\n",
    "# plot sobol indice\n",
    "ax.plot(a_range,Q_2, marker='o', markersize=4, linewidth=1)\n",
    "\n",
    "# plot Q_2\n",
    "ax.plot(a_range,S_i, linewidth=1)"
   ]
  },
  {
   "cell_type": "markdown",
   "metadata": {},
   "source": [
    "## 2 Monte Carlo estimator"
   ]
  },
  {
   "cell_type": "markdown",
   "metadata": {},
   "source": [
    "### 2.1 Generate samples for x"
   ]
  },
  {
   "cell_type": "code",
   "execution_count": 7,
   "metadata": {},
   "outputs": [],
   "source": [
    "# The number of samples\n",
    "N = 100\n",
    "\n",
    "# Generate sample for x given mean and covariance\n",
    "x_j = np.random.multivariate_normal(mean_1,cov_1,N) # shape:(N, d)\n",
    "x_j = np.sort(x_j) # shape:(100, 4)"
   ]
  },
  {
   "cell_type": "markdown",
   "metadata": {},
   "source": [
    "### 2.2 Get output Y by using function and sample x"
   ]
  },
  {
   "cell_type": "code",
   "execution_count": 8,
   "metadata": {},
   "outputs": [
    {
     "data": {
      "text/plain": [
       "array([14.62915668, 12.6576578 , 11.17443551, 18.59868906, 16.12796252,\n",
       "       21.46770089, 10.48103092, 16.22169443, 11.14832552, 16.3401722 ,\n",
       "       17.15102109, 10.86088205, 20.41959293, 14.34697219, 17.68435003,\n",
       "       14.02158189, 11.74793088, 14.47909412, 22.45746918, 21.59642573,\n",
       "       14.43163126, 15.38719469, 19.36779074, 18.66922986, 11.99155394,\n",
       "       17.37090533, 12.99581526, 15.90548581, 19.39978928, 14.87780963,\n",
       "       13.27313571, 15.438373  , 10.54218692, 14.67453012, 17.00773187,\n",
       "       16.90372357, 15.81867705, 18.33662746, 13.9353    ,  9.34005146,\n",
       "       13.99769667, 15.61786963, 12.6041016 , 15.6793597 , 15.47390971,\n",
       "       24.14573352, 22.33689103, 21.48584182, 14.22837231, 22.08924902,\n",
       "       19.62377995, 19.58477964, 17.9661905 , 17.47438865,  9.49474593,\n",
       "       16.61390396, 12.10511177, 12.95554086, 19.16233037, 12.10166793,\n",
       "       17.06093598, 27.48163257, 16.40554801, 17.67044841, 11.52940878,\n",
       "       14.07905497, 15.7538094 , 12.11087237,  7.9432769 , 10.90501444,\n",
       "       12.00397442, 21.15071159, 11.06031838, 17.83072684, 12.18986806,\n",
       "       15.87211582, 15.97171162, 12.59155313, 13.18800955, 16.18426402,\n",
       "       15.13075509, 15.53917321, 15.82642604, 14.89673435, 13.64715056,\n",
       "       15.42150561, 19.21562716, 16.66220192, 18.65631046, 17.29024729,\n",
       "       16.46707581, 14.57168752, 12.47162822, 18.50384318, 16.16461986,\n",
       "       21.00395884, 12.114609  , 16.07399245, 15.35128897, 24.95052892])"
      ]
     },
     "execution_count": 8,
     "metadata": {},
     "output_type": "execute_result"
    }
   ],
   "source": [
    "Y_j=func1(x_j)\n",
    "Y_j"
   ]
  },
  {
   "cell_type": "markdown",
   "metadata": {},
   "source": [
    "### 2.3 CDF as a function of y"
   ]
  },
  {
   "cell_type": "markdown",
   "metadata": {},
   "source": [
    "#### Way 1: Define a function ecdf"
   ]
  },
  {
   "cell_type": "code",
   "execution_count": 35,
   "metadata": {},
   "outputs": [],
   "source": [
    "def ecdf(data):\n",
    "    \"\"\" Compute ECDF \"\"\"\n",
    "    x = np.sort(data)\n",
    "    n = x.size\n",
    "    y = np.arange(1, n+1) / n\n",
    "    return(x,y)"
   ]
  },
  {
   "cell_type": "code",
   "execution_count": 36,
   "metadata": {},
   "outputs": [
    {
     "data": {
      "text/plain": [
       "<matplotlib.collections.PathCollection at 0x7f8bae782c90>"
      ]
     },
     "execution_count": 36,
     "metadata": {},
     "output_type": "execute_result"
    },
    {
     "data": {
      "image/png": "[encoded data removed]",
      "text/plain": [
       "<Figure size 432x288 with 1 Axes>"
      ]
     },
     "metadata": {
      "needs_background": "light"
     },
     "output_type": "display_data"
    }
   ],
   "source": [
    "ecdf(Y_j)\n",
    "plt.scatter(x=x, y=y)"
   ]
  },
  {
   "cell_type": "code",
   "execution_count": 44,
   "metadata": {},
   "outputs": [],
   "source": [
    "#### Way 2: Use ECDF function from statsmodels package."
   ]
  },
  {
   "cell_type": "code",
   "execution_count": 45,
   "metadata": {},
   "outputs": [],
   "source": [
    "from statsmodels.distributions.empirical_distribution import ECDF\n",
    "ecdf = ECDF(Y_j)"
   ]
  },
  {
   "cell_type": "code",
   "execution_count": 46,
   "metadata": {},
   "outputs": [
    {
     "data": {
      "text/plain": [
       "0.88"
      ]
     },
     "execution_count": 46,
     "metadata": {},
     "output_type": "execute_result"
    }
   ],
   "source": [
    "ecdf(20)"
   ]
  },
  {
   "cell_type": "code",
   "execution_count": 47,
   "metadata": {},
   "outputs": [
    {
     "data": {
      "text/plain": [
       "[<matplotlib.lines.Line2D at 0x7f8baf915750>]"
      ]
     },
     "execution_count": 47,
     "metadata": {},
     "output_type": "execute_result"
    },
    {
     "data": {
      "image/png": "[encoded data removed]",
      "text/plain": [
       "<Figure size 432x288 with 1 Axes>"
      ]
     },
     "metadata": {
      "needs_background": "light"
     },
     "output_type": "display_data"
    }
   ],
   "source": [
    "plt.plot(ecdf.x, ecdf.y)"
   ]
  },
  {
   "cell_type": "markdown",
   "metadata": {},
   "source": [
    "### 2.4 Inverse CDF"
   ]
  },
  {
   "cell_type": "code",
   "execution_count": 43,
   "metadata": {},
   "outputs": [
    {
     "data": {
      "image/png": "[encoded data removed]",
      "text/plain": [
       "<Figure size 432x288 with 1 Axes>"
      ]
     },
     "metadata": {
      "needs_background": "light"
     },
     "output_type": "display_data"
    },
    {
     "name": "stdout",
     "output_type": "stream",
     "text": [
      "97.5 percentile: 23.30160134795092\n"
     ]
    }
   ],
   "source": [
    "from scipy.interpolate import interp1d\n",
    "\n",
    "slope_changes = sorted(set(Y_j))\n",
    "\n",
    "Y_edf_values_at_slope_changes = [ ecdf(item) for item in slope_changes]\n",
    "inverted_edf = interp1d(Y_edf_values_at_slope_changes, slope_changes)\n",
    "\n",
    "x = np.linspace(0.1, 1)\n",
    "y = inverted_edf(x)\n",
    "plt.plot(x, y, 'ro', x, y, 'b-')\n",
    "plt.show()\n",
    "\n",
    "print ('97.5 percentile:', inverted_edf(0.975))"
   ]
  },
  {
   "cell_type": "markdown",
   "metadata": {},
   "source": [
    "### 2.5 Get measures"
   ]
  },
  {
   "cell_type": "code",
   "execution_count": null,
   "metadata": {},
   "outputs": [],
   "source": []
  }
 ],
 "metadata": {
  "kernelspec": {
   "display_name": "Python 3",
   "language": "python",
   "name": "python3"
  },
  "language_info": {
   "codemirror_mode": {
    "name": "ipython",
    "version": 3
   },
   "file_extension": ".py",
   "mimetype": "text/x-python",
   "name": "python",
   "nbconvert_exporter": "python",
   "pygments_lexer": "ipython3",
   "version": "3.7.4"
  }
 },
 "nbformat": 4,
 "nbformat_minor": 4
}
