{
 "cells": [
  {
   "cell_type": "markdown",
   "metadata": {},
   "source": [
    "## 1 benchmarks for numerical estimates"
   ]
  },
  {
   "cell_type": "code",
   "execution_count": 2,
   "metadata": {},
   "outputs": [],
   "source": [
    "# Import Python Packages\n",
    "import numpy as np\n",
    "import math \n",
    "from scipy.stats import norm\n",
    "import matplotlib.pyplot as plt\n",
    "import seaborn as sns"
   ]
  },
  {
   "cell_type": "code",
   "execution_count": 3,
   "metadata": {},
   "outputs": [],
   "source": [
    "# given mean and covariance\n",
    "d = 4\n",
    "mean_1 = np.array([1, 3, 5, 7])\n",
    "cov_1 = np.array(\n",
    "    [\n",
    "        [1, 0, 0, 0],\n",
    "        [0, 2.25, 0, 0],\n",
    "        [0, 0, 4, 0],\n",
    "        [0, 0, 0, 6.25],\n",
    "    ],\n",
    ")\n",
    "\n",
    "# range of alpha\n",
    "a_range=np.vstack(np.linspace(0,1,20,endpoint=False)[1:])"
   ]
  },
  {
   "cell_type": "code",
   "execution_count": 4,
   "metadata": {},
   "outputs": [],
   "source": [
    "# model function\n",
    "def func1(args):\n",
    "    result = np.sum(args, axis=1)\n",
    "    return result"
   ]
  },
  {
   "cell_type": "code",
   "execution_count": 5,
   "metadata": {},
   "outputs": [
    {
     "name": "stdout",
     "output_type": "stream",
     "text": [
      "[[0.07407407 0.16666667 0.2962963  0.46296296]\n",
      " [0.07407407 0.16666667 0.2962963  0.46296296]\n",
      " [0.07407407 0.16666667 0.2962963  0.46296296]\n",
      " [0.07407407 0.16666667 0.2962963  0.46296296]\n",
      " [0.07407407 0.16666667 0.2962963  0.46296296]\n",
      " [0.07407407 0.16666667 0.2962963  0.46296296]\n",
      " [0.07407407 0.16666667 0.2962963  0.46296296]\n",
      " [0.07407407 0.16666667 0.2962963  0.46296296]\n",
      " [0.07407407 0.16666667 0.2962963  0.46296296]\n",
      " [0.07407407 0.16666667 0.2962963  0.46296296]\n",
      " [0.07407407 0.16666667 0.2962963  0.46296296]\n",
      " [0.07407407 0.16666667 0.2962963  0.46296296]\n",
      " [0.07407407 0.16666667 0.2962963  0.46296296]\n",
      " [0.07407407 0.16666667 0.2962963  0.46296296]\n",
      " [0.07407407 0.16666667 0.2962963  0.46296296]\n",
      " [0.07407407 0.16666667 0.2962963  0.46296296]\n",
      " [0.07407407 0.16666667 0.2962963  0.46296296]\n",
      " [0.07407407 0.16666667 0.2962963  0.46296296]\n",
      " [0.07407407 0.16666667 0.2962963  0.46296296]]\n"
     ]
    }
   ],
   "source": [
    "# sobol indices\n",
    "S_i = []\n",
    "for i in range(d):\n",
    "    S_i_i = cov_1[i,i]/np.trace(cov_1)\n",
    "    S_i.append(S_i_i)\n",
    "\n",
    "S_i = np.hstack(S_i)\n",
    "S_i = np.tile(S_i, (len(a_range),1))\n",
    "                       \n",
    "print(S_i)"
   ]
  },
  {
   "cell_type": "code",
   "execution_count": 6,
   "metadata": {},
   "outputs": [],
   "source": [
    "# inverse error function\n",
    "def inv_error(a):\n",
    "    phi_inv = norm.ppf(a)\n",
    "    return phi_inv\n",
    "\n",
    "\n",
    "phi_inv = inv_error(a_range)"
   ]
  },
  {
   "cell_type": "code",
   "execution_count": 7,
   "metadata": {},
   "outputs": [
    {
     "name": "stdout",
     "output_type": "stream",
     "text": [
      "[[1.05204894 2.52727738 4.94828404 8.85717277]\n",
      " [1.03159581 2.4183186  4.5756468  7.83265943]\n",
      " [1.02066523 2.3600887  4.37650151 7.28513761]\n",
      " [1.0136267  2.32259276 4.24826603 6.93257231]\n",
      " [1.00875202 2.29662412 4.15945371 6.68839542]\n",
      " [1.00529034 2.27818293 4.09638515 6.51499734]\n",
      " [1.00285628 2.26521613 4.0520389  6.39307358]\n",
      " [1.00123478 2.25657797 4.02249654 6.31185107]\n",
      " [1.00030378 2.25161832 4.00553461 6.26521664]\n",
      " [1.         2.25       4.         6.25      ]\n",
      " [1.00030378 2.25161832 4.00553461 6.26521664]\n",
      " [1.00123478 2.25657797 4.02249654 6.31185107]\n",
      " [1.00285628 2.26521613 4.0520389  6.39307358]\n",
      " [1.00529034 2.27818293 4.09638515 6.51499734]\n",
      " [1.00875202 2.29662412 4.15945371 6.68839542]\n",
      " [1.0136267  2.32259276 4.24826603 6.93257231]\n",
      " [1.02066523 2.3600887  4.37650151 7.28513761]\n",
      " [1.03159581 2.4183186  4.5756468  7.83265943]\n",
      " [1.05204894 2.52727738 4.94828404 8.85717277]]\n"
     ]
    }
   ],
   "source": [
    "# q_2: PDF of the out put Y(Eq.30)\n",
    "q_2 = []\n",
    "for a in range(len(a_range)):\n",
    "    q_2_a = []\n",
    "    for i in range(d):\n",
    "        q_2_i = cov_1[i,i] + phi_inv[a]**2*(math.sqrt(np.trace(cov_1))-math.sqrt(sum(cov_1[j,j] for j in range(d) if j != i)))**2\n",
    "        q_2_a.append(q_2_i)\n",
    "    q_2.append(q_2_a)\n",
    "    \n",
    "q_2 = np.vstack(q_2).reshape((len(a_range),d))\n",
    "print(q_2)"
   ]
  },
  {
   "cell_type": "code",
   "execution_count": 8,
   "metadata": {},
   "outputs": [
    {
     "name": "stdout",
     "output_type": "stream",
     "text": [
      "[[0.06051551 0.14537296 0.28463306 0.50947847]\n",
      " [0.06505117 0.15249621 0.28853469 0.49391792]\n",
      " [0.06785258 0.15689583 0.2909445  0.48430709]\n",
      " [0.06982315 0.1599906  0.2926396  0.47754665]\n",
      " [0.07127365 0.1622686  0.29388734 0.47257041]\n",
      " [0.07234982 0.16395873 0.29481307 0.46887837]\n",
      " [0.07313081 0.16518527 0.29548489 0.46619904]\n",
      " [0.07366267 0.16602055 0.2959424  0.46437438]\n",
      " [0.07397234 0.16650689 0.29620878 0.46331199]\n",
      " [0.07407407 0.16666667 0.2962963  0.46296296]\n",
      " [0.07397234 0.16650689 0.29620878 0.46331199]\n",
      " [0.07366267 0.16602055 0.2959424  0.46437438]\n",
      " [0.07313081 0.16518527 0.29548489 0.46619904]\n",
      " [0.07234982 0.16395873 0.29481307 0.46887837]\n",
      " [0.07127365 0.1622686  0.29388734 0.47257041]\n",
      " [0.06982315 0.1599906  0.2926396  0.47754665]\n",
      " [0.06785258 0.15689583 0.2909445  0.48430709]\n",
      " [0.06505117 0.15249621 0.28853469 0.49391792]\n",
      " [0.06051551 0.14537296 0.28463306 0.50947847]]\n"
     ]
    }
   ],
   "source": [
    "# Q_2: quantile based sensitivit measure 2.(Eq.14)\n",
    "Q_2 = []\n",
    "for a in range(len(a_range)):\n",
    "    Q_2_a = []\n",
    "    for i in range(d):\n",
    "        Q_2_i = q_2[a,i]/sum(q_2[a])\n",
    "        Q_2_a.append(Q_2_i)\n",
    "    Q_2.append(Q_2_a)\n",
    "\n",
    "Q_2 = np.hstack(Q_2).reshape((len(a_range),d))\n",
    "print(Q_2)"
   ]
  },
  {
   "cell_type": "code",
   "execution_count": 9,
   "metadata": {},
   "outputs": [
    {
     "data": {
      "text/plain": [
       "[<matplotlib.lines.Line2D at 0x7fb184607b10>,\n",
       " <matplotlib.lines.Line2D at 0x7fb185b715d0>,\n",
       " <matplotlib.lines.Line2D at 0x7fb185b71790>,\n",
       " <matplotlib.lines.Line2D at 0x7fb185b71950>]"
      ]
     },
     "execution_count": 9,
     "metadata": {},
     "output_type": "execute_result"
    },
    {
     "data": {
      "image/png": "[encoded data removed]",
      "text/plain": [
       "<Figure size 432x288 with 1 Axes>"
      ]
     },
     "metadata": {
      "needs_background": "light"
     },
     "output_type": "display_data"
    }
   ],
   "source": [
    "ax = plt.subplot(111)\n",
    "\n",
    "# plot sobol indice\n",
    "ax.plot(a_range,Q_2, marker='o', markersize=4, linewidth=1)\n",
    "\n",
    "# plot Q_2\n",
    "ax.plot(a_range,S_i, linewidth=1)"
   ]
  },
  {
   "cell_type": "markdown",
   "metadata": {},
   "source": [
    "## 2 Monte Carlo estimator"
   ]
  },
  {
   "cell_type": "markdown",
   "metadata": {},
   "source": [
    "### 2.1 Generate samples for x"
   ]
  },
  {
   "cell_type": "code",
   "execution_count": 10,
   "metadata": {},
   "outputs": [],
   "source": [
    "# The number of samples\n",
    "N = 100\n",
    "\n",
    "# Generate sample for x given mean and covariance\n",
    "x_j = np.random.multivariate_normal(mean_1,cov_1,N) # shape:(N, d)\n",
    "x_j = np.sort(x_j) # shape:(100, 4)"
   ]
  },
  {
   "cell_type": "code",
   "execution_count": null,
   "metadata": {},
   "outputs": [],
   "source": [
    "# conditional sample x\n",
    "\n",
    "\n"
   ]
  },
  {
   "cell_type": "markdown",
   "metadata": {},
   "source": [
    "### 2.2 Get output Y by using function and sample x"
   ]
  },
  {
   "cell_type": "code",
   "execution_count": 11,
   "metadata": {},
   "outputs": [
    {
     "data": {
      "text/plain": [
       "array([13.57545456, 19.16214128, 12.27455049, 11.43723547, 22.52408125,\n",
       "       11.88976868, 13.00883021, 11.61441518, 16.04170477, 18.60703035,\n",
       "       14.30938418, 22.15244934, 21.70068667, 15.32307362, 19.52127744,\n",
       "       14.22148597, 13.73370987, 17.32507777, 13.500002  , 16.86956225,\n",
       "       18.73210765, 18.21416933,  9.36664679, 19.67864262, 20.807478  ,\n",
       "       15.34495738, 10.12314779, 16.09969944, 14.5720227 ,  8.74398883,\n",
       "       11.13603114, 15.59491944, 15.31134833, 19.38420811, 13.46023832,\n",
       "       21.10108417, 19.49899722, 15.40162988, 14.72747682, 16.014937  ,\n",
       "       17.79097715, 16.87668179, 16.1511971 , 12.30138617, 15.12321696,\n",
       "       17.22335502, 14.77094073, 20.54962223, 14.9811047 , 19.19480445,\n",
       "       17.71918481, 10.99454439, 15.00521094, 14.49361295, 18.40770628,\n",
       "        8.48103583, 17.77697616, 20.83629834, 18.39328509, 16.16641277,\n",
       "       10.39868723, 21.79212286, 17.13159826, 18.4527688 , 10.48402051,\n",
       "       20.16864243, 13.51541698, 17.39218502, 13.50613133, 13.46359528,\n",
       "       19.29727049, 20.34564148, 12.95660728, 16.03595715,  9.27094303,\n",
       "       13.64680359, 16.9480707 , 15.32837914, 18.19752032, 16.55004549,\n",
       "       16.69105183, 15.05516105, 15.90463049, 14.83061623, 20.15146653,\n",
       "       21.66110499, 23.72898072, 19.43469653,  9.65977191, 16.19778374,\n",
       "       14.9381364 , 21.01429538, 15.43523188, 16.50522243, 14.15877439,\n",
       "       15.66045128, 15.66630065, 14.62203722, 12.34161633, 18.20704975])"
      ]
     },
     "execution_count": 11,
     "metadata": {},
     "output_type": "execute_result"
    }
   ],
   "source": [
    "Y_j=func1(x_j)\n",
    "Y_j"
   ]
  },
  {
   "cell_type": "markdown",
   "metadata": {},
   "source": [
    "### 2.3 CDF as a function of y"
   ]
  },
  {
   "cell_type": "markdown",
   "metadata": {},
   "source": [
    "#### Way 1: Define a function ecdf"
   ]
  },
  {
   "cell_type": "code",
   "execution_count": 14,
   "metadata": {},
   "outputs": [],
   "source": [
    "def ecdf(data):\n",
    "    \"\"\" Compute ECDF \"\"\"\n",
    "    x = np.sort(data)\n",
    "    n = x.size\n",
    "    y = np.arange(1, n+1) / n\n",
    "    return(x,y)\n",
    "\n",
    "x, y = ecdf(Y_j)"
   ]
  },
  {
   "cell_type": "code",
   "execution_count": 15,
   "metadata": {},
   "outputs": [
    {
     "data": {
      "text/plain": [
       "<matplotlib.collections.PathCollection at 0x7fb185cd6550>"
      ]
     },
     "execution_count": 15,
     "metadata": {},
     "output_type": "execute_result"
    },
    {
     "data": {
      "image/png": "[encoded data removed]",
      "text/plain": [
       "<Figure size 432x288 with 1 Axes>"
      ]
     },
     "metadata": {
      "needs_background": "light"
     },
     "output_type": "display_data"
    }
   ],
   "source": [
    "ecdf(Y_j)\n",
    "plt.scatter(x=x, y=y)"
   ]
  },
  {
   "cell_type": "markdown",
   "metadata": {},
   "source": [
    "#### Way 2: Use ECDF function from statsmodels package."
   ]
  },
  {
   "cell_type": "code",
   "execution_count": 16,
   "metadata": {},
   "outputs": [],
   "source": [
    "from statsmodels.distributions.empirical_distribution import ECDF\n",
    "ecdf = ECDF(Y_j)"
   ]
  },
  {
   "cell_type": "code",
   "execution_count": 17,
   "metadata": {},
   "outputs": [
    {
     "data": {
      "text/plain": [
       "0.86"
      ]
     },
     "execution_count": 17,
     "metadata": {},
     "output_type": "execute_result"
    }
   ],
   "source": [
    "ecdf(20)"
   ]
  },
  {
   "cell_type": "code",
   "execution_count": 18,
   "metadata": {},
   "outputs": [
    {
     "data": {
      "text/plain": [
       "[<matplotlib.lines.Line2D at 0x7fb185d26350>]"
      ]
     },
     "execution_count": 18,
     "metadata": {},
     "output_type": "execute_result"
    },
    {
     "data": {
      "image/png": "[encoded data removed]",
      "text/plain": [
       "<Figure size 432x288 with 1 Axes>"
      ]
     },
     "metadata": {
      "needs_background": "light"
     },
     "output_type": "display_data"
    }
   ],
   "source": [
    "plt.plot(ecdf.x, ecdf.y)"
   ]
  },
  {
   "cell_type": "markdown",
   "metadata": {},
   "source": [
    "### 2.4 Inverse CDF"
   ]
  },
  {
   "cell_type": "code",
   "execution_count": 20,
   "metadata": {},
   "outputs": [
    {
     "data": {
      "image/png": "[encoded data removed]",
      "text/plain": [
       "<Figure size 432x288 with 1 Axes>"
      ]
     },
     "metadata": {
      "needs_background": "light"
     },
     "output_type": "display_data"
    },
    {
     "name": "stdout",
     "output_type": "stream",
     "text": [
      "97.5 percentile: 21.972286096654447\n"
     ]
    }
   ],
   "source": [
    "from scipy.interpolate import interp1d\n",
    "\n",
    "slope_changes = sorted(set(Y_j))\n",
    "\n",
    "Y_edf_values_at_slope_changes = [ ecdf(item) for item in slope_changes]\n",
    "inverted_edf = interp1d(Y_edf_values_at_slope_changes, slope_changes)\n",
    "\n",
    "x = np.linspace(0.1, 1)\n",
    "y = inverted_edf(x)\n",
    "plt.plot(x, y)\n",
    "plt.show()\n",
    "\n",
    "print ('97.5 percentile:', inverted_edf(0.975))"
   ]
  },
  {
   "cell_type": "markdown",
   "metadata": {},
   "source": [
    "### 2.5 Get measures"
   ]
  },
  {
   "cell_type": "code",
   "execution_count": null,
   "metadata": {},
   "outputs": [],
   "source": []
  }
 ],
 "metadata": {
  "kernelspec": {
   "display_name": "Python 3",
   "language": "python",
   "name": "python3"
  },
  "language_info": {
   "codemirror_mode": {
    "name": "ipython",
    "version": 3
   },
   "file_extension": ".py",
   "mimetype": "text/x-python",
   "name": "python",
   "nbconvert_exporter": "python",
   "pygments_lexer": "ipython3",
   "version": "3.7.4"
  }
 },
 "nbformat": 4,
 "nbformat_minor": 4
}
